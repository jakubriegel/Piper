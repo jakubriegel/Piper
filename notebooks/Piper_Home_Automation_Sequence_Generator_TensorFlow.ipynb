{
  "nbformat": 4,
  "nbformat_minor": 0,
  "metadata": {
    "colab": {
      "name": "Piper - Home Automation Sequence Generator.ipynb",
      "provenance": [],
      "collapsed_sections": [
        "4u_CI9OhifdZ"
      ],
      "toc_visible": true
    },
    "kernelspec": {
      "name": "python3",
      "display_name": "Python 3"
    },
    "accelerator": "GPU"
  },
  "cells": [
    {
      "cell_type": "markdown",
      "metadata": {
        "id": "GGwfLaE7lUtU"
      },
      "source": [
        "# Piper - Home Automation Sequence Generator"
      ]
    },
    {
      "cell_type": "markdown",
      "metadata": {
        "id": "p9CeTle3lcgV"
      },
      "source": [
        "## RNN & Text Generation Algorithms\n",
        "https://www.tensorflow.org/tutorials/text/text_generation\n",
        "\n",
        "W pierwszej kolejności zajmiemy się analizą algorymtu generacji tekstu przedstawionego w powyższym tutorialu oraz implementacją prostego generatora tesktu opartego o dzieło Szekspira, jak również poznaniem tego jak operuje sie na narzędziach jakie dostarcza nam TensorFlow."
      ]
    },
    {
      "cell_type": "code",
      "metadata": {
        "id": "4yW7t9_qlmae",
        "colab": {
          "base_uri": "https://localhost:8080/",
          "height": 51
        },
        "outputId": "70c3f9d9-b54b-4102-d21d-80bc6e0ae4a4"
      },
      "source": [
        "import tensorflow as tf\n",
        "\n",
        "import numpy as np\n",
        "import os\n",
        "import time\n",
        "\n",
        "path_to_file = tf.keras.utils.get_file('shakespeare.txt', 'https://storage.googleapis.com/download.tensorflow.org/data/shakespeare.txt')"
      ],
      "execution_count": null,
      "outputs": [
        {
          "output_type": "stream",
          "text": [
            "Downloading data from https://storage.googleapis.com/download.tensorflow.org/data/shakespeare.txt\n",
            "1122304/1115394 [==============================] - 0s 0us/step\n"
          ],
          "name": "stdout"
        }
      ]
    },
    {
      "cell_type": "code",
      "metadata": {
        "id": "chmNkfb_MMjd",
        "colab": {
          "base_uri": "https://localhost:8080/",
          "height": 34
        },
        "outputId": "e638646a-0f98-43bf-fa77-c34002fa92aa"
      },
      "source": [
        "# Read, then decode for py2 compat.\n",
        "text = open(path_to_file, 'rb').read().decode(encoding='utf-8')\n",
        "# length of text is the number of characters in it\n",
        "print ('Length of text: {} characters'.format(len(text)))"
      ],
      "execution_count": null,
      "outputs": [
        {
          "output_type": "stream",
          "text": [
            "Length of text: 1115394 characters\n"
          ],
          "name": "stdout"
        }
      ]
    },
    {
      "cell_type": "code",
      "metadata": {
        "id": "oP3QON9mMSGz",
        "colab": {
          "base_uri": "https://localhost:8080/",
          "height": 275
        },
        "outputId": "488fee9f-1988-4e6d-e3f2-b11ac47e3e1b"
      },
      "source": [
        "# Take a look at the first 250 characters in text\n",
        "print(text[:250])"
      ],
      "execution_count": null,
      "outputs": [
        {
          "output_type": "stream",
          "text": [
            "First Citizen:\n",
            "Before we proceed any further, hear me speak.\n",
            "\n",
            "All:\n",
            "Speak, speak.\n",
            "\n",
            "First Citizen:\n",
            "You are all resolved rather to die than to famish?\n",
            "\n",
            "All:\n",
            "Resolved. resolved.\n",
            "\n",
            "First Citizen:\n",
            "First, you know Caius Marcius is chief enemy to the people.\n",
            "\n"
          ],
          "name": "stdout"
        }
      ]
    },
    {
      "cell_type": "code",
      "metadata": {
        "id": "FBaL0fyYMX8j",
        "colab": {
          "base_uri": "https://localhost:8080/",
          "height": 34
        },
        "outputId": "c755e872-c294-45e8-b8e5-6fb12fa77f79"
      },
      "source": [
        "# The unique characters in the file\n",
        "vocab = sorted(set(text))\n",
        "print ('{} unique characters'.format(len(vocab)))"
      ],
      "execution_count": null,
      "outputs": [
        {
          "output_type": "stream",
          "text": [
            "65 unique characters\n"
          ],
          "name": "stdout"
        }
      ]
    },
    {
      "cell_type": "code",
      "metadata": {
        "id": "7fqIMd-lMaT9",
        "colab": {
          "base_uri": "https://localhost:8080/",
          "height": 413
        },
        "outputId": "a8607698-7141-45bb-e247-e42fd35b66ae"
      },
      "source": [
        "# Creating a mapping from unique characters to indices\n",
        "char2idx = {u:i for i, u in enumerate(vocab)}\n",
        "idx2char = np.array(vocab)\n",
        "\n",
        "text_as_int = np.array([char2idx[c] for c in text])\n",
        "\n",
        "print('{')\n",
        "for char,_ in zip(char2idx, range(20)):\n",
        "    print('  {:4s}: {:3d},'.format(repr(char), char2idx[char]))\n",
        "print('  ...\\n}')"
      ],
      "execution_count": null,
      "outputs": [
        {
          "output_type": "stream",
          "text": [
            "{\n",
            "  '\\n':   0,\n",
            "  ' ' :   1,\n",
            "  '!' :   2,\n",
            "  '$' :   3,\n",
            "  '&' :   4,\n",
            "  \"'\" :   5,\n",
            "  ',' :   6,\n",
            "  '-' :   7,\n",
            "  '.' :   8,\n",
            "  '3' :   9,\n",
            "  ':' :  10,\n",
            "  ';' :  11,\n",
            "  '?' :  12,\n",
            "  'A' :  13,\n",
            "  'B' :  14,\n",
            "  'C' :  15,\n",
            "  'D' :  16,\n",
            "  'E' :  17,\n",
            "  'F' :  18,\n",
            "  'G' :  19,\n",
            "  ...\n",
            "}\n"
          ],
          "name": "stdout"
        }
      ]
    },
    {
      "cell_type": "code",
      "metadata": {
        "id": "TnlDdJPYMe9z",
        "colab": {
          "base_uri": "https://localhost:8080/",
          "height": 34
        },
        "outputId": "902fae6c-e38e-46ef-b4a8-445d24db090f"
      },
      "source": [
        "# Show how the first 13 characters from the text are mapped to integers\n",
        "print ('{} ---- characters mapped to int ---- > {}'.format(repr(text[:13]), text_as_int[:13]))"
      ],
      "execution_count": null,
      "outputs": [
        {
          "output_type": "stream",
          "text": [
            "'First Citizen' ---- characters mapped to int ---- > [18 47 56 57 58  1 15 47 58 47 64 43 52]\n"
          ],
          "name": "stdout"
        }
      ]
    },
    {
      "cell_type": "code",
      "metadata": {
        "id": "evlGYG3NMhoP",
        "colab": {
          "base_uri": "https://localhost:8080/",
          "height": 103
        },
        "outputId": "be400ee4-86d0-45e1-999e-3bb7f8f9397e"
      },
      "source": [
        "# The maximum length sentence we want for a single input in characters\n",
        "seq_length = 100\n",
        "examples_per_epoch = len(text)//(seq_length+1)\n",
        "\n",
        "# Create training examples / targets\n",
        "char_dataset = tf.data.Dataset.from_tensor_slices(text_as_int)\n",
        "\n",
        "for i in char_dataset.take(5):\n",
        "  print(idx2char[i.numpy()])"
      ],
      "execution_count": null,
      "outputs": [
        {
          "output_type": "stream",
          "text": [
            "F\n",
            "i\n",
            "r\n",
            "s\n",
            "t\n"
          ],
          "name": "stdout"
        }
      ]
    },
    {
      "cell_type": "code",
      "metadata": {
        "id": "9xdutdorMcac",
        "colab": {
          "base_uri": "https://localhost:8080/",
          "height": 103
        },
        "outputId": "c02c5cad-2ad1-4e19-c82d-8555c03d0b53"
      },
      "source": [
        "sequences = char_dataset.batch(seq_length+1, drop_remainder=True)\n",
        "\n",
        "for item in sequences.take(5):\n",
        "  print(repr(''.join(idx2char[item.numpy()])))"
      ],
      "execution_count": null,
      "outputs": [
        {
          "output_type": "stream",
          "text": [
            "'First Citizen:\\nBefore we proceed any further, hear me speak.\\n\\nAll:\\nSpeak, speak.\\n\\nFirst Citizen:\\nYou '\n",
            "'are all resolved rather to die than to famish?\\n\\nAll:\\nResolved. resolved.\\n\\nFirst Citizen:\\nFirst, you k'\n",
            "\"now Caius Marcius is chief enemy to the people.\\n\\nAll:\\nWe know't, we know't.\\n\\nFirst Citizen:\\nLet us ki\"\n",
            "\"ll him, and we'll have corn at our own price.\\nIs't a verdict?\\n\\nAll:\\nNo more talking on't; let it be d\"\n",
            "'one: away, away!\\n\\nSecond Citizen:\\nOne word, good citizens.\\n\\nFirst Citizen:\\nWe are accounted poor citi'\n"
          ],
          "name": "stdout"
        }
      ]
    },
    {
      "cell_type": "code",
      "metadata": {
        "id": "feAkWnW7Mmc7"
      },
      "source": [
        "def split_input_target(chunk):\n",
        "    input_text = chunk[:-1]\n",
        "    target_text = chunk[1:]\n",
        "    return input_text, target_text\n",
        "\n",
        "dataset = sequences.map(split_input_target)"
      ],
      "execution_count": null,
      "outputs": []
    },
    {
      "cell_type": "code",
      "metadata": {
        "id": "OKp3Fu4pMolX",
        "colab": {
          "base_uri": "https://localhost:8080/",
          "height": 51
        },
        "outputId": "f2e2a4fd-63b6-44ea-d46e-e032351ebc91"
      },
      "source": [
        "for input_example, target_example in  dataset.take(1):\n",
        "  print ('Input data: ', repr(''.join(idx2char[input_example.numpy()])))\n",
        "  print ('Target data:', repr(''.join(idx2char[target_example.numpy()])))"
      ],
      "execution_count": null,
      "outputs": [
        {
          "output_type": "stream",
          "text": [
            "Input data:  'First Citizen:\\nBefore we proceed any further, hear me speak.\\n\\nAll:\\nSpeak, speak.\\n\\nFirst Citizen:\\nYou'\n",
            "Target data: 'irst Citizen:\\nBefore we proceed any further, hear me speak.\\n\\nAll:\\nSpeak, speak.\\n\\nFirst Citizen:\\nYou '\n"
          ],
          "name": "stdout"
        }
      ]
    },
    {
      "cell_type": "code",
      "metadata": {
        "id": "OkulPFd4NNDJ",
        "colab": {
          "base_uri": "https://localhost:8080/",
          "height": 275
        },
        "outputId": "0f0ac797-649c-476a-91d5-a234dab17414"
      },
      "source": [
        "for i, (input_idx, target_idx) in enumerate(zip(input_example[:5], target_example[:5])):\n",
        "    print(\"Step {:4d}\".format(i))\n",
        "    print(\"  input: {} ({:s})\".format(input_idx, repr(idx2char[input_idx])))\n",
        "    print(\"  expected output: {} ({:s})\".format(target_idx, repr(idx2char[target_idx])))"
      ],
      "execution_count": null,
      "outputs": [
        {
          "output_type": "stream",
          "text": [
            "Step    0\n",
            "  input: 18 ('F')\n",
            "  expected output: 47 ('i')\n",
            "Step    1\n",
            "  input: 47 ('i')\n",
            "  expected output: 56 ('r')\n",
            "Step    2\n",
            "  input: 56 ('r')\n",
            "  expected output: 57 ('s')\n",
            "Step    3\n",
            "  input: 57 ('s')\n",
            "  expected output: 58 ('t')\n",
            "Step    4\n",
            "  input: 58 ('t')\n",
            "  expected output: 1 (' ')\n"
          ],
          "name": "stdout"
        }
      ]
    },
    {
      "cell_type": "code",
      "metadata": {
        "id": "w0_lFeY2NPm1",
        "colab": {
          "base_uri": "https://localhost:8080/",
          "height": 34
        },
        "outputId": "e49268cd-5c27-4d70-eb48-d232a4971575"
      },
      "source": [
        "# Batch size\n",
        "BATCH_SIZE = 64\n",
        "\n",
        "# Buffer size to shuffle the dataset\n",
        "# (TF data is designed to work with possibly infinite sequences,\n",
        "# so it doesn't attempt to shuffle the entire sequence in memory. Instead,\n",
        "# it maintains a buffer in which it shuffles elements).\n",
        "BUFFER_SIZE = 10000\n",
        "\n",
        "dataset = dataset.shuffle(BUFFER_SIZE).batch(BATCH_SIZE, drop_remainder=True)\n",
        "\n",
        "dataset"
      ],
      "execution_count": null,
      "outputs": [
        {
          "output_type": "execute_result",
          "data": {
            "text/plain": [
              "<BatchDataset shapes: ((64, 100), (64, 100)), types: (tf.int64, tf.int64)>"
            ]
          },
          "metadata": {
            "tags": []
          },
          "execution_count": 12
        }
      ]
    },
    {
      "cell_type": "code",
      "metadata": {
        "id": "eDnf0vxUNUT4"
      },
      "source": [
        "# Length of the vocabulary in chars\n",
        "vocab_size = len(vocab)\n",
        "\n",
        "# The embedding dimension\n",
        "embedding_dim = 256\n",
        "\n",
        "# Number of RNN units\n",
        "rnn_units = 1024"
      ],
      "execution_count": null,
      "outputs": []
    },
    {
      "cell_type": "code",
      "metadata": {
        "id": "9uNPlJStNZ86"
      },
      "source": [
        "def build_model(vocab_size, embedding_dim, rnn_units, batch_size):\n",
        "  model = tf.keras.Sequential([\n",
        "    tf.keras.layers.Embedding(vocab_size, embedding_dim,\n",
        "                              batch_input_shape=[batch_size, None]),\n",
        "    tf.keras.layers.GRU(rnn_units,\n",
        "                        return_sequences=True,\n",
        "                        stateful=True,\n",
        "                        recurrent_initializer='glorot_uniform'),\n",
        "    tf.keras.layers.Dense(vocab_size)\n",
        "  ])\n",
        "  return model"
      ],
      "execution_count": null,
      "outputs": []
    },
    {
      "cell_type": "code",
      "metadata": {
        "id": "0pMLc1JKNaaU"
      },
      "source": [
        "model = build_model(\n",
        "  vocab_size = len(vocab),\n",
        "  embedding_dim=embedding_dim,\n",
        "  rnn_units=rnn_units,\n",
        "  batch_size=BATCH_SIZE)"
      ],
      "execution_count": null,
      "outputs": []
    },
    {
      "cell_type": "code",
      "metadata": {
        "id": "Ydf2njRmNcIY",
        "colab": {
          "base_uri": "https://localhost:8080/",
          "height": 34
        },
        "outputId": "87d13bdf-9c49-418c-e6bc-b328f83e6889"
      },
      "source": [
        "for input_example_batch, target_example_batch in dataset.take(1):\n",
        "  example_batch_predictions = model(input_example_batch)\n",
        "  print(example_batch_predictions.shape, \"# (batch_size, sequence_length, vocab_size)\")"
      ],
      "execution_count": null,
      "outputs": [
        {
          "output_type": "stream",
          "text": [
            "(64, 100, 65) # (batch_size, sequence_length, vocab_size)\n"
          ],
          "name": "stdout"
        }
      ]
    },
    {
      "cell_type": "code",
      "metadata": {
        "id": "_LTmHlMyNe7d",
        "colab": {
          "base_uri": "https://localhost:8080/",
          "height": 258
        },
        "outputId": "fa8f0169-3b0d-4057-e784-5c582b161087"
      },
      "source": [
        "model.summary()"
      ],
      "execution_count": null,
      "outputs": [
        {
          "output_type": "stream",
          "text": [
            "Model: \"sequential\"\n",
            "_________________________________________________________________\n",
            "Layer (type)                 Output Shape              Param #   \n",
            "=================================================================\n",
            "embedding (Embedding)        (64, None, 256)           16640     \n",
            "_________________________________________________________________\n",
            "gru (GRU)                    (64, None, 1024)          3938304   \n",
            "_________________________________________________________________\n",
            "dense (Dense)                (64, None, 65)            66625     \n",
            "=================================================================\n",
            "Total params: 4,021,569\n",
            "Trainable params: 4,021,569\n",
            "Non-trainable params: 0\n",
            "_________________________________________________________________\n"
          ],
          "name": "stdout"
        }
      ]
    },
    {
      "cell_type": "code",
      "metadata": {
        "id": "E1CqoMVuNrfJ",
        "colab": {
          "base_uri": "https://localhost:8080/",
          "height": 120
        },
        "outputId": "c5ab9fc6-0a7b-4024-a8bf-75b54ea89a9d"
      },
      "source": [
        "sampled_indices = tf.random.categorical(example_batch_predictions[0], num_samples=1)\n",
        "sampled_indices = tf.squeeze(sampled_indices,axis=-1).numpy()\n",
        "sampled_indices"
      ],
      "execution_count": null,
      "outputs": [
        {
          "output_type": "execute_result",
          "data": {
            "text/plain": [
              "array([64, 42, 36, 10, 55, 58, 10, 16,  5, 37,  9, 40, 51, 31, 23, 12,  1,\n",
              "       22, 31,  3, 57,  4, 37, 31,  1, 56, 44,  6, 43, 41, 14, 42, 62, 61,\n",
              "       20, 34, 22, 42, 38, 25, 29, 59, 16, 51, 62, 39, 23, 32,  6, 12, 18,\n",
              "        3, 34, 13, 23, 57, 12, 18, 16, 53, 56, 55, 21, 24, 29, 30,  2,  9,\n",
              "       41, 34, 12, 47, 27, 45, 37, 58, 47, 41, 59, 63, 49, 51, 23,  8, 40,\n",
              "       62, 45, 35, 21, 44, 16, 30, 52, 27, 40, 31, 52, 60, 37, 35])"
            ]
          },
          "metadata": {
            "tags": []
          },
          "execution_count": 18
        }
      ]
    },
    {
      "cell_type": "code",
      "metadata": {
        "id": "hhkaykH6NvT0",
        "colab": {
          "base_uri": "https://localhost:8080/",
          "height": 103
        },
        "outputId": "9444256c-8250-4d0c-b017-c549e13600ec"
      },
      "source": [
        "print(\"Input: \\n\", repr(\"\".join(idx2char[input_example_batch[0]])))\n",
        "print()\n",
        "print(\"Next Char Predictions: \\n\", repr(\"\".join(idx2char[sampled_indices ])))"
      ],
      "execution_count": null,
      "outputs": [
        {
          "output_type": "stream",
          "text": [
            "Input: \n",
            " 'is\\nrequiring with a plausible obedience; agree with\\nhis demands to the point; only refer yourself to'\n",
            "\n",
            "Next Char Predictions: \n",
            " \"zdX:qt:D'Y3bmSK? JS$s&YS rf,ecBdxwHVJdZMQuDmxaKT,?F$VAKs?FDorqILQR!3cV?iOgYticuykmK.bxgWIfDRnObSnvYW\"\n"
          ],
          "name": "stdout"
        }
      ]
    },
    {
      "cell_type": "code",
      "metadata": {
        "id": "QglevWTHNxZA",
        "colab": {
          "base_uri": "https://localhost:8080/",
          "height": 51
        },
        "outputId": "1fe64bb0-73f7-4ebe-8436-9ff33db44191"
      },
      "source": [
        "def loss(labels, logits):\n",
        "  return tf.keras.losses.sparse_categorical_crossentropy(labels, logits, from_logits=True)\n",
        "\n",
        "example_batch_loss  = loss(target_example_batch, example_batch_predictions)\n",
        "print(\"Prediction shape: \", example_batch_predictions.shape, \" # (batch_size, sequence_length, vocab_size)\")\n",
        "print(\"scalar_loss:      \", example_batch_loss.numpy().mean())"
      ],
      "execution_count": null,
      "outputs": [
        {
          "output_type": "stream",
          "text": [
            "Prediction shape:  (64, 100, 65)  # (batch_size, sequence_length, vocab_size)\n",
            "scalar_loss:       4.1754284\n"
          ],
          "name": "stdout"
        }
      ]
    },
    {
      "cell_type": "code",
      "metadata": {
        "id": "alWBaWTEN1I7"
      },
      "source": [
        "model.compile(optimizer='adam', loss=loss)"
      ],
      "execution_count": null,
      "outputs": []
    },
    {
      "cell_type": "code",
      "metadata": {
        "id": "5u50-DBmN5Sy"
      },
      "source": [
        "# Directory where the checkpoints will be saved\n",
        "checkpoint_dir = './training_checkpoints'\n",
        "# Name of the checkpoint files\n",
        "checkpoint_prefix = os.path.join(checkpoint_dir, \"ckpt_{epoch}\")\n",
        "\n",
        "checkpoint_callback=tf.keras.callbacks.ModelCheckpoint(\n",
        "    filepath=checkpoint_prefix,\n",
        "    save_weights_only=True)"
      ],
      "execution_count": null,
      "outputs": []
    },
    {
      "cell_type": "code",
      "metadata": {
        "id": "8MUoH5hKN8hB",
        "colab": {
          "base_uri": "https://localhost:8080/",
          "height": 361
        },
        "outputId": "6b974980-419d-4cfd-8042-c0671af8b1af"
      },
      "source": [
        "EPOCHS=10\n",
        "history = model.fit(dataset, epochs=EPOCHS, callbacks=[checkpoint_callback])"
      ],
      "execution_count": null,
      "outputs": [
        {
          "output_type": "stream",
          "text": [
            "Epoch 1/10\n",
            "172/172 [==============================] - 7s 42ms/step - loss: 2.6498\n",
            "Epoch 2/10\n",
            "172/172 [==============================] - 7s 42ms/step - loss: 1.9494\n",
            "Epoch 3/10\n",
            "172/172 [==============================] - 7s 42ms/step - loss: 1.6857\n",
            "Epoch 4/10\n",
            "172/172 [==============================] - 7s 42ms/step - loss: 1.5405\n",
            "Epoch 5/10\n",
            "172/172 [==============================] - 7s 42ms/step - loss: 1.4527\n",
            "Epoch 6/10\n",
            "172/172 [==============================] - 7s 42ms/step - loss: 1.3931\n",
            "Epoch 7/10\n",
            "172/172 [==============================] - 7s 42ms/step - loss: 1.3477\n",
            "Epoch 8/10\n",
            "172/172 [==============================] - 7s 41ms/step - loss: 1.3088\n",
            "Epoch 9/10\n",
            "172/172 [==============================] - 7s 42ms/step - loss: 1.2738\n",
            "Epoch 10/10\n",
            "172/172 [==============================] - 7s 42ms/step - loss: 1.2406\n"
          ],
          "name": "stdout"
        }
      ]
    },
    {
      "cell_type": "code",
      "metadata": {
        "id": "VMYHwRIyN_k7",
        "colab": {
          "base_uri": "https://localhost:8080/",
          "height": 51
        },
        "outputId": "adc82669-9da8-4107-9cc3-8a66d96a768b"
      },
      "source": [
        "def loss(labels, logits):\n",
        "  return tf.keras.losses.sparse_categorical_crossentropy(labels, logits, from_logits=True)\n",
        "\n",
        "example_batch_loss  = loss(target_example_batch, example_batch_predictions)\n",
        "print(\"Prediction shape: \", example_batch_predictions.shape, \" # (batch_size, sequence_length, vocab_size)\")\n",
        "print(\"scalar_loss:      \", example_batch_loss.numpy().mean())"
      ],
      "execution_count": null,
      "outputs": [
        {
          "output_type": "stream",
          "text": [
            "Prediction shape:  (64, 100, 65)  # (batch_size, sequence_length, vocab_size)\n",
            "scalar_loss:       4.1754284\n"
          ],
          "name": "stdout"
        }
      ]
    },
    {
      "cell_type": "code",
      "metadata": {
        "id": "H3089ufZObgw"
      },
      "source": [
        "model.compile(optimizer='adam', loss=loss)"
      ],
      "execution_count": null,
      "outputs": []
    },
    {
      "cell_type": "code",
      "metadata": {
        "id": "l6q3fqxeOcKr"
      },
      "source": [
        "# Directory where the checkpoints will be saved\n",
        "checkpoint_dir = './training_checkpoints'\n",
        "# Name of the checkpoint files\n",
        "checkpoint_prefix = os.path.join(checkpoint_dir, \"ckpt_{epoch}\")\n",
        "\n",
        "checkpoint_callback=tf.keras.callbacks.ModelCheckpoint(\n",
        "    filepath=checkpoint_prefix,\n",
        "    save_weights_only=True)"
      ],
      "execution_count": null,
      "outputs": []
    },
    {
      "cell_type": "code",
      "metadata": {
        "id": "EQrCoGz-Odri",
        "colab": {
          "base_uri": "https://localhost:8080/",
          "height": 361
        },
        "outputId": "3372eb9f-efca-4f42-c8cd-4f58b0c07ed2"
      },
      "source": [
        "history = model.fit(dataset, epochs=EPOCHS, callbacks=[checkpoint_callback])"
      ],
      "execution_count": null,
      "outputs": [
        {
          "output_type": "stream",
          "text": [
            "Epoch 1/10\n",
            "172/172 [==============================] - 7s 42ms/step - loss: 1.2171\n",
            "Epoch 2/10\n",
            "172/172 [==============================] - 7s 42ms/step - loss: 1.1771\n",
            "Epoch 3/10\n",
            "172/172 [==============================] - 7s 42ms/step - loss: 1.1428\n",
            "Epoch 4/10\n",
            "172/172 [==============================] - 7s 42ms/step - loss: 1.1072\n",
            "Epoch 5/10\n",
            "172/172 [==============================] - 7s 42ms/step - loss: 1.0721\n",
            "Epoch 6/10\n",
            "172/172 [==============================] - 7s 42ms/step - loss: 1.0348\n",
            "Epoch 7/10\n",
            "172/172 [==============================] - 7s 42ms/step - loss: 0.9987\n",
            "Epoch 8/10\n",
            "172/172 [==============================] - 7s 42ms/step - loss: 0.9614\n",
            "Epoch 9/10\n",
            "172/172 [==============================] - 7s 43ms/step - loss: 0.9256\n",
            "Epoch 10/10\n",
            "172/172 [==============================] - 7s 42ms/step - loss: 0.8924\n"
          ],
          "name": "stdout"
        }
      ]
    },
    {
      "cell_type": "code",
      "metadata": {
        "id": "3t43aywGOf5Y",
        "colab": {
          "base_uri": "https://localhost:8080/",
          "height": 34
        },
        "outputId": "2202a68d-b698-436d-e804-40645cafa89d"
      },
      "source": [
        "tf.train.latest_checkpoint(checkpoint_dir)"
      ],
      "execution_count": null,
      "outputs": [
        {
          "output_type": "execute_result",
          "data": {
            "text/plain": [
              "'./training_checkpoints/ckpt_10'"
            ]
          },
          "metadata": {
            "tags": []
          },
          "execution_count": 28
        }
      ]
    },
    {
      "cell_type": "code",
      "metadata": {
        "id": "NSETROHeOjFJ"
      },
      "source": [
        "model = build_model(vocab_size, embedding_dim, rnn_units, batch_size=1)\n",
        "\n",
        "model.load_weights(tf.train.latest_checkpoint(checkpoint_dir))\n",
        "\n",
        "model.build(tf.TensorShape([1, None]))"
      ],
      "execution_count": null,
      "outputs": []
    },
    {
      "cell_type": "code",
      "metadata": {
        "id": "xTXGzjnEOjwk",
        "colab": {
          "base_uri": "https://localhost:8080/",
          "height": 258
        },
        "outputId": "b37f62b1-314a-4b0c-d840-7a0bc09e734d"
      },
      "source": [
        "model.summary()"
      ],
      "execution_count": null,
      "outputs": [
        {
          "output_type": "stream",
          "text": [
            "Model: \"sequential_1\"\n",
            "_________________________________________________________________\n",
            "Layer (type)                 Output Shape              Param #   \n",
            "=================================================================\n",
            "embedding_1 (Embedding)      (1, None, 256)            16640     \n",
            "_________________________________________________________________\n",
            "gru_1 (GRU)                  (1, None, 1024)           3938304   \n",
            "_________________________________________________________________\n",
            "dense_1 (Dense)              (1, None, 65)             66625     \n",
            "=================================================================\n",
            "Total params: 4,021,569\n",
            "Trainable params: 4,021,569\n",
            "Non-trainable params: 0\n",
            "_________________________________________________________________\n"
          ],
          "name": "stdout"
        }
      ]
    },
    {
      "cell_type": "code",
      "metadata": {
        "id": "-znFI0NdOl3_"
      },
      "source": [
        "def generate_text(model, start_string):\n",
        "  # Evaluation step (generating text using the learned model)\n",
        "\n",
        "  # Number of characters to generate\n",
        "  num_generate = 1000\n",
        "\n",
        "  # Converting our start string to numbers (vectorizing)\n",
        "  input_eval = [char2idx[s] for s in start_string]\n",
        "  input_eval = tf.expand_dims(input_eval, 0)\n",
        "\n",
        "  # Empty string to store our results\n",
        "  text_generated = []\n",
        "\n",
        "  # Low temperatures results in more predictable text.\n",
        "  # Higher temperatures results in more surprising text.\n",
        "  # Experiment to find the best setting.\n",
        "  temperature = 1.0\n",
        "\n",
        "  # Here batch size == 1\n",
        "  model.reset_states()\n",
        "  for i in range(num_generate):\n",
        "      predictions = model(input_eval)\n",
        "      # remove the batch dimension\n",
        "      predictions = tf.squeeze(predictions, 0)\n",
        "\n",
        "      # using a categorical distribution to predict the character returned by the model\n",
        "      predictions = predictions / temperature\n",
        "      predicted_id = tf.random.categorical(predictions, num_samples=1)[-1,0].numpy()\n",
        "\n",
        "      # We pass the predicted character as the next input to the model\n",
        "      # along with the previous hidden state\n",
        "      input_eval = tf.expand_dims([predicted_id], 0)\n",
        "\n",
        "      text_generated.append(idx2char[predicted_id])\n",
        "\n",
        "  return (start_string + ''.join(text_generated))"
      ],
      "execution_count": null,
      "outputs": []
    },
    {
      "cell_type": "code",
      "metadata": {
        "id": "EepKlNBVOp-S",
        "colab": {
          "base_uri": "https://localhost:8080/",
          "height": 689
        },
        "outputId": "4f4c4c87-14de-41cf-d7d4-9da66aaa93a9"
      },
      "source": [
        "print(generate_text(model, start_string=u\"ROMEO: \"))"
      ],
      "execution_count": null,
      "outputs": [
        {
          "output_type": "stream",
          "text": [
            "ROMEO: this new cardinall\n",
            "Is through the like deeds, without that there are gentlemening,\n",
            "We may capt upon you.\n",
            "\n",
            "First Senator:\n",
            "Sir, she well the nobility:\n",
            "Then lies that ve up Hereford hurts in 'em!\n",
            "\n",
            "JULIET: our general\n",
            "is the parish'd prisoner;\n",
            "Not what is Ely up-rence? prithee, pray him to his lady.\n",
            "\n",
            "HORTENSIO:\n",
            "Had I been the daxENEN:\n",
            "and most deserve cogestrie!\n",
            "\n",
            "ISABELLA:\n",
            "Yes; but, I advangan: sure, thank young ignorance,\n",
            "And now your stand, whom I, 'greed!\n",
            "\n",
            "TYRRKEd her no more are heavy piffulling\n",
            "pride must saying with the fire,\n",
            "And slain by thinks that one sold mel next day, if not, I play\n",
            "So many sin that we did show\n",
            "Dread weep'st to see in all:\n",
            "His name is Lawillist: s how I may banishment to you;\n",
            "Look, what love?\n",
            "\n",
            "Servant:\n",
            "Ay, sir; I humbly I do deliver,\n",
            "The crown of justice against himself:\n",
            "With all of ours, the end of enemies,\n",
            "Make warmer'd all the very difference of my heart.\n",
            "Thine eye and fear: our sadders that's before,\n",
            "You hugh'd a mother!\n",
            "\n",
            "COgapter:\n",
            "It was my fanny:\n",
            "As she sh\n"
          ],
          "name": "stdout"
        }
      ]
    },
    {
      "cell_type": "markdown",
      "metadata": {
        "id": "sVoRoL5tQ1XK"
      },
      "source": [
        "### Wnioski\n",
        "\n",
        "\n",
        "*   Generacja tesktu opisanego w przykaładzie powyżej jest na zadowalającym poziomie, pomimo tego, że jego treść jest bez sensu prawdopodobieństwo napisania czegoś podobnego przez człowieka jest całkiem spore, same słowa są generowane poprawnie, a więc przy inne strukturze niż litery algorytm powinien sprawdzić się równie przyzwoicie, co jest idealne dla naszych celów.\n",
        "*   Sama generacja tekstu nie jest skomplikowana jeśli chodzi o sam algorytm\n",
        "*   Algorytm jest bardzo zasobożerny w kwestii, znaczym przyspieszeniem okazuje sie przełączenie sesji na kartę graficzną (Zakładka Runtime -> Change runtime type -> GPU)\n",
        "\n",
        "\n",
        "\n"
      ]
    },
    {
      "cell_type": "markdown",
      "metadata": {
        "id": "sCchesYcQGRg"
      },
      "source": [
        "## Generacja sekwencji DataFrame'ów Pandasowych na podstawie algorytmu generacji tekstu RNN\n",
        "W tej części zajmiemy się zdefiniowaniem algorymtu na nasze potrzeby, czyli generację sekwencji automatyzacji domu, poprzez odtworzenie algorymtu generacji tekstu lecz dla innej struktury danych jaką będzie DataFrame z biblioteki Pandas. Zrobimy to w krokach takich jak w algorytmie poprzedzającym:\n",
        "1.   Ładowanie danych z Dysku Google\n",
        "2.   Przesunięcie w DataFramie Pandasowym (przygotowujemy dwa data frame'y na wzór przesuniętej tablicy np. X=[1,2,3,4] Y=[2,3,4,1]\n",
        "3.   Trenowanie modelu\n",
        "4.   Wyznaczenie funkcji straty\n",
        "5.   Stworzenie funkcji generującej\n"
      ]
    },
    {
      "cell_type": "markdown",
      "metadata": {
        "id": "umMTWtQYcn44"
      },
      "source": [
        "### Import przygotowanych danych z naszego dysku google\n",
        "Wykorzystywane dane są wygenerowane z naszego innego generatora: https://github.com/jakubriegel/piper-data-generator. \n",
        "Tak spreparowane dane zapisujemy do pliku CSV na naszym dysku google po czym kopijuemy link do ich udostępniania."
      ]
    },
    {
      "cell_type": "code",
      "metadata": {
        "id": "2UoR4oCc631O",
        "colab": {
          "base_uri": "https://localhost:8080/",
          "height": 218
        },
        "outputId": "0a4b4996-dcd8-4fa9-9fc2-0fb7d91c5874"
      },
      "source": [
        "# Code to read csv file into Colaboratory:\n",
        "!pip install -U -q PyDrive\n",
        "from pydrive.auth import GoogleAuth\n",
        "from pydrive.drive import GoogleDrive\n",
        "from google.colab import auth\n",
        "from oauth2client.client import GoogleCredentials\n",
        "import pandas as pd\n",
        "import tensorflow as tf\n",
        "\n",
        "# Authenticate and create the PyDrive client.\n",
        "auth.authenticate_user()\n",
        "gauth = GoogleAuth()\n",
        "gauth.credentials = GoogleCredentials.get_application_default()\n",
        "drive = GoogleDrive(gauth)\n",
        "\n",
        "link = 'https://drive.google.com/open?id=1pLSHaV5pRmNWm-FN5Upea4Ihi8cMIOsU'\n",
        "fluff, id = link.split('=')\n",
        "print (id) # Verify that you have everything after '='\n",
        "\n",
        "downloaded = drive.CreateFile({'id':id}) \n",
        "downloaded.GetContentFile('sensors_data.csv')  \n",
        "\n",
        "header_list = [\"timestamp\", \"sensor\", \"action\"]\n",
        "sensors_df = pd.read_csv('sensors_data.csv', names=header_list)\n",
        "\n",
        "# Dataset is now stored in a Pandas Dataframe\n",
        "sensors_df.head()"
      ],
      "execution_count": null,
      "outputs": [
        {
          "output_type": "stream",
          "text": [
            "1pLSHaV5pRmNWm-FN5Upea4Ihi8cMIOsU\n"
          ],
          "name": "stdout"
        },
        {
          "output_type": "execute_result",
          "data": {
            "text/html": [
              "<div>\n",
              "<style scoped>\n",
              "    .dataframe tbody tr th:only-of-type {\n",
              "        vertical-align: middle;\n",
              "    }\n",
              "\n",
              "    .dataframe tbody tr th {\n",
              "        vertical-align: top;\n",
              "    }\n",
              "\n",
              "    .dataframe thead th {\n",
              "        text-align: right;\n",
              "    }\n",
              "</style>\n",
              "<table border=\"1\" class=\"dataframe\">\n",
              "  <thead>\n",
              "    <tr style=\"text-align: right;\">\n",
              "      <th></th>\n",
              "      <th>timestamp</th>\n",
              "      <th>sensor</th>\n",
              "      <th>action</th>\n",
              "    </tr>\n",
              "  </thead>\n",
              "  <tbody>\n",
              "    <tr>\n",
              "      <th>0</th>\n",
              "      <td>1589144709</td>\n",
              "      <td>outdoor_gate_1_switch</td>\n",
              "      <td>gate_open</td>\n",
              "    </tr>\n",
              "    <tr>\n",
              "      <th>1</th>\n",
              "      <td>1589144709</td>\n",
              "      <td>kitchen_light_1_switch</td>\n",
              "      <td>light_on</td>\n",
              "    </tr>\n",
              "    <tr>\n",
              "      <th>2</th>\n",
              "      <td>1589144709</td>\n",
              "      <td>bedroom_2_light_1_switch</td>\n",
              "      <td>light_on</td>\n",
              "    </tr>\n",
              "    <tr>\n",
              "      <th>3</th>\n",
              "      <td>1589145425</td>\n",
              "      <td>outdoor_gate_1_switch</td>\n",
              "      <td>gate_close</td>\n",
              "    </tr>\n",
              "    <tr>\n",
              "      <th>4</th>\n",
              "      <td>1589145585</td>\n",
              "      <td>corridor_light_1_sensor</td>\n",
              "      <td>light_on</td>\n",
              "    </tr>\n",
              "  </tbody>\n",
              "</table>\n",
              "</div>"
            ],
            "text/plain": [
              "    timestamp                    sensor      action\n",
              "0  1589144709     outdoor_gate_1_switch   gate_open\n",
              "1  1589144709    kitchen_light_1_switch    light_on\n",
              "2  1589144709  bedroom_2_light_1_switch    light_on\n",
              "3  1589145425     outdoor_gate_1_switch  gate_close\n",
              "4  1589145585   corridor_light_1_sensor    light_on"
            ]
          },
          "metadata": {
            "tags": []
          },
          "execution_count": 33
        }
      ]
    },
    {
      "cell_type": "markdown",
      "metadata": {
        "id": "knc-8TNTuZsb"
      },
      "source": [
        "### Konwersja danych"
      ]
    },
    {
      "cell_type": "code",
      "metadata": {
        "id": "sWC_vz-3u559",
        "colab": {
          "base_uri": "https://localhost:8080/",
          "height": 201
        },
        "outputId": "f5c27281-5016-4b65-9831-d80511708d4b"
      },
      "source": [
        "sensors_df['sensors_with_action'] = sensors_df['sensor'] + '_' + sensors_df['action']\n",
        "sensors_df.head()"
      ],
      "execution_count": null,
      "outputs": [
        {
          "output_type": "execute_result",
          "data": {
            "text/html": [
              "<div>\n",
              "<style scoped>\n",
              "    .dataframe tbody tr th:only-of-type {\n",
              "        vertical-align: middle;\n",
              "    }\n",
              "\n",
              "    .dataframe tbody tr th {\n",
              "        vertical-align: top;\n",
              "    }\n",
              "\n",
              "    .dataframe thead th {\n",
              "        text-align: right;\n",
              "    }\n",
              "</style>\n",
              "<table border=\"1\" class=\"dataframe\">\n",
              "  <thead>\n",
              "    <tr style=\"text-align: right;\">\n",
              "      <th></th>\n",
              "      <th>timestamp</th>\n",
              "      <th>sensor</th>\n",
              "      <th>action</th>\n",
              "      <th>sensors_with_action</th>\n",
              "    </tr>\n",
              "  </thead>\n",
              "  <tbody>\n",
              "    <tr>\n",
              "      <th>0</th>\n",
              "      <td>1589144709</td>\n",
              "      <td>outdoor_gate_1_switch</td>\n",
              "      <td>gate_open</td>\n",
              "      <td>outdoor_gate_1_switch_gate_open</td>\n",
              "    </tr>\n",
              "    <tr>\n",
              "      <th>1</th>\n",
              "      <td>1589144709</td>\n",
              "      <td>kitchen_light_1_switch</td>\n",
              "      <td>light_on</td>\n",
              "      <td>kitchen_light_1_switch_light_on</td>\n",
              "    </tr>\n",
              "    <tr>\n",
              "      <th>2</th>\n",
              "      <td>1589144709</td>\n",
              "      <td>bedroom_2_light_1_switch</td>\n",
              "      <td>light_on</td>\n",
              "      <td>bedroom_2_light_1_switch_light_on</td>\n",
              "    </tr>\n",
              "    <tr>\n",
              "      <th>3</th>\n",
              "      <td>1589145425</td>\n",
              "      <td>outdoor_gate_1_switch</td>\n",
              "      <td>gate_close</td>\n",
              "      <td>outdoor_gate_1_switch_gate_close</td>\n",
              "    </tr>\n",
              "    <tr>\n",
              "      <th>4</th>\n",
              "      <td>1589145585</td>\n",
              "      <td>corridor_light_1_sensor</td>\n",
              "      <td>light_on</td>\n",
              "      <td>corridor_light_1_sensor_light_on</td>\n",
              "    </tr>\n",
              "  </tbody>\n",
              "</table>\n",
              "</div>"
            ],
            "text/plain": [
              "    timestamp  ...                sensors_with_action\n",
              "0  1589144709  ...    outdoor_gate_1_switch_gate_open\n",
              "1  1589144709  ...    kitchen_light_1_switch_light_on\n",
              "2  1589144709  ...  bedroom_2_light_1_switch_light_on\n",
              "3  1589145425  ...   outdoor_gate_1_switch_gate_close\n",
              "4  1589145585  ...   corridor_light_1_sensor_light_on\n",
              "\n",
              "[5 rows x 4 columns]"
            ]
          },
          "metadata": {
            "tags": []
          },
          "execution_count": 34
        }
      ]
    },
    {
      "cell_type": "code",
      "metadata": {
        "id": "ie-rz6nBxE3v",
        "colab": {
          "base_uri": "https://localhost:8080/",
          "height": 34
        },
        "outputId": "1ff8f759-c163-42d0-9bca-f5ed06bd53fe"
      },
      "source": [
        "sensors_df['sensors_with_action_code'] = pd.Categorical(sensors_df['sensors_with_action'])\n",
        "categories = pd.Categorical(sensors_df['sensors_with_action_code'])\n",
        "CATEGORIES_AMOUNT = len(categories.categories.values)\n",
        "print('There is', CATEGORIES_AMOUNT, 'unique categories')"
      ],
      "execution_count": null,
      "outputs": [
        {
          "output_type": "stream",
          "text": [
            "There is 59 unique categories\n"
          ],
          "name": "stdout"
        }
      ]
    },
    {
      "cell_type": "code",
      "metadata": {
        "id": "5du8e4yoeg1T",
        "colab": {
          "base_uri": "https://localhost:8080/",
          "height": 140
        },
        "outputId": "59f1838c-963d-464f-8005-d09a10f845a7"
      },
      "source": [
        "categories.describe"
      ],
      "execution_count": null,
      "outputs": [
        {
          "output_type": "execute_result",
          "data": {
            "text/plain": [
              "<bound method Categorical.describe of [outdoor_gate_1_switch_gate_open, kitchen_light_1_switch_light_on, bedroom_2_light_1_switch_light_on, outdoor_gate_1_switch_gate_close, corridor_light_1_sensor_light_on, ..., general_ac_temp_up, living_room_light_1_switch_light_on, living_room_light_1_switch_light_off, living_room_light_1_switch_light_on, living_room_light_1_switch_light_off]\n",
              "Length: 10000\n",
              "Categories (59, object): [bathroom_light_1_switch_light_off, bathroom_light_1_switch_light_on,\n",
              "                          bathroom_light_2_switch_light_off, bathroom_light_2_switch_light_on, ...,\n",
              "                          outdoor_light_1_sensor_light_off, outdoor_light_1_sensor_light_on,\n",
              "                          outdoor_light_2_sensor_light_off, outdoor_light_2_sensor_light_on]>"
            ]
          },
          "metadata": {
            "tags": []
          },
          "execution_count": 36
        }
      ]
    },
    {
      "cell_type": "code",
      "metadata": {
        "id": "aSoD0St5lY-x",
        "colab": {
          "base_uri": "https://localhost:8080/",
          "height": 1000
        },
        "outputId": "228db107-ddf2-411a-a71b-df7ec010ab5f"
      },
      "source": [
        "categories_dict = dict( enumerate(sensors_df['sensors_with_action_code'].cat.categories ) )\n",
        "categories_dict"
      ],
      "execution_count": null,
      "outputs": [
        {
          "output_type": "execute_result",
          "data": {
            "text/plain": [
              "{0: 'bathroom_light_1_switch_light_off',\n",
              " 1: 'bathroom_light_1_switch_light_on',\n",
              " 2: 'bathroom_light_2_switch_light_off',\n",
              " 3: 'bathroom_light_2_switch_light_on',\n",
              " 4: 'bedroom_1_blind_1_switch_blind_down',\n",
              " 5: 'bedroom_1_blind_1_switch_blind_up',\n",
              " 6: 'bedroom_1_light_1_switch_light_off',\n",
              " 7: 'bedroom_1_light_1_switch_light_on',\n",
              " 8: 'bedroom_1_light_2_switch_light_off',\n",
              " 9: 'bedroom_1_light_2_switch_light_on',\n",
              " 10: 'bedroom_1_light_3_switch_light_off',\n",
              " 11: 'bedroom_1_light_3_switch_light_on',\n",
              " 12: 'bedroom_2_blind_1_switch_blind_down',\n",
              " 13: 'bedroom_2_blind_1_switch_blind_up',\n",
              " 14: 'bedroom_2_light_1_switch_light_off',\n",
              " 15: 'bedroom_2_light_1_switch_light_on',\n",
              " 16: 'bedroom_2_light_2_switch_light_off',\n",
              " 17: 'bedroom_2_light_2_switch_light_on',\n",
              " 18: 'bedroom_3_blind_1_switch_blind_down',\n",
              " 19: 'bedroom_3_blind_1_switch_blind_up',\n",
              " 20: 'bedroom_3_light_1_switch_light_off',\n",
              " 21: 'bedroom_3_light_1_switch_light_on',\n",
              " 22: 'bedroom_3_light_2_switch_light_off',\n",
              " 23: 'bedroom_3_light_2_switch_light_on',\n",
              " 24: 'corridor_light_1_sensor_light_off',\n",
              " 25: 'corridor_light_1_sensor_light_on',\n",
              " 26: 'general_ac_temp_up',\n",
              " 27: 'kitchen_blind_1_switch_blind_down',\n",
              " 28: 'kitchen_blind_1_switch_blind_up',\n",
              " 29: 'kitchen_blind_2_switch_blind_down',\n",
              " 30: 'kitchen_blind_2_switch_blind_up',\n",
              " 31: 'kitchen_light_1_switch_light_off',\n",
              " 32: 'kitchen_light_1_switch_light_on',\n",
              " 33: 'kitchen_light_2_switch_light_off',\n",
              " 34: 'kitchen_light_2_switch_light_on',\n",
              " 35: 'kitchen_light_3_switch_light_off',\n",
              " 36: 'kitchen_light_3_switch_light_on',\n",
              " 37: 'living_room_blind_1_switch_blind_down',\n",
              " 38: 'living_room_blind_1_switch_blind_up',\n",
              " 39: 'living_room_blind_2_switch_blind_down',\n",
              " 40: 'living_room_blind_2_switch_blind_up',\n",
              " 41: 'living_room_blind_3_switch_blind_down',\n",
              " 42: 'living_room_blind_3_switch_blind_up',\n",
              " 43: 'living_room_light_1_switch_light_off',\n",
              " 44: 'living_room_light_1_switch_light_on',\n",
              " 45: 'living_room_light_2_switch_light_off',\n",
              " 46: 'living_room_light_2_switch_light_on',\n",
              " 47: 'living_room_light_3_switch_light_off',\n",
              " 48: 'living_room_light_3_switch_light_on',\n",
              " 49: 'living_room_tv_off',\n",
              " 50: 'living_room_tv_on',\n",
              " 51: 'outdoor_gate_1_switch_gate_close',\n",
              " 52: 'outdoor_gate_1_switch_gate_open',\n",
              " 53: 'outdoor_gate_2_switch_gate_close',\n",
              " 54: 'outdoor_gate_2_switch_gate_open',\n",
              " 55: 'outdoor_light_1_sensor_light_off',\n",
              " 56: 'outdoor_light_1_sensor_light_on',\n",
              " 57: 'outdoor_light_2_sensor_light_off',\n",
              " 58: 'outdoor_light_2_sensor_light_on'}"
            ]
          },
          "metadata": {
            "tags": []
          },
          "execution_count": 37
        }
      ]
    },
    {
      "cell_type": "code",
      "metadata": {
        "id": "6doR13hRlyxX",
        "colab": {
          "base_uri": "https://localhost:8080/",
          "height": 34
        },
        "outputId": "8be632d4-2e3f-4546-93f9-e7b97984a03c"
      },
      "source": [
        "def getCategory(category_id):\n",
        "  return categories_dict[category_id]\n",
        "\n",
        "getCategory(42)"
      ],
      "execution_count": null,
      "outputs": [
        {
          "output_type": "execute_result",
          "data": {
            "text/plain": [
              "'living_room_blind_3_switch_blind_up'"
            ]
          },
          "metadata": {
            "tags": []
          },
          "execution_count": 38
        }
      ]
    },
    {
      "cell_type": "code",
      "metadata": {
        "id": "j-C_z0Fi2IgK",
        "colab": {
          "base_uri": "https://localhost:8080/",
          "height": 201
        },
        "outputId": "e654301c-4fba-41cd-d807-792f07b82e09"
      },
      "source": [
        "sensors_df['sensors_with_action_code'] = sensors_df.sensors_with_action_code.cat.codes\n",
        "sensors_df.head()"
      ],
      "execution_count": null,
      "outputs": [
        {
          "output_type": "execute_result",
          "data": {
            "text/html": [
              "<div>\n",
              "<style scoped>\n",
              "    .dataframe tbody tr th:only-of-type {\n",
              "        vertical-align: middle;\n",
              "    }\n",
              "\n",
              "    .dataframe tbody tr th {\n",
              "        vertical-align: top;\n",
              "    }\n",
              "\n",
              "    .dataframe thead th {\n",
              "        text-align: right;\n",
              "    }\n",
              "</style>\n",
              "<table border=\"1\" class=\"dataframe\">\n",
              "  <thead>\n",
              "    <tr style=\"text-align: right;\">\n",
              "      <th></th>\n",
              "      <th>timestamp</th>\n",
              "      <th>sensor</th>\n",
              "      <th>action</th>\n",
              "      <th>sensors_with_action</th>\n",
              "      <th>sensors_with_action_code</th>\n",
              "    </tr>\n",
              "  </thead>\n",
              "  <tbody>\n",
              "    <tr>\n",
              "      <th>0</th>\n",
              "      <td>1589144709</td>\n",
              "      <td>outdoor_gate_1_switch</td>\n",
              "      <td>gate_open</td>\n",
              "      <td>outdoor_gate_1_switch_gate_open</td>\n",
              "      <td>52</td>\n",
              "    </tr>\n",
              "    <tr>\n",
              "      <th>1</th>\n",
              "      <td>1589144709</td>\n",
              "      <td>kitchen_light_1_switch</td>\n",
              "      <td>light_on</td>\n",
              "      <td>kitchen_light_1_switch_light_on</td>\n",
              "      <td>32</td>\n",
              "    </tr>\n",
              "    <tr>\n",
              "      <th>2</th>\n",
              "      <td>1589144709</td>\n",
              "      <td>bedroom_2_light_1_switch</td>\n",
              "      <td>light_on</td>\n",
              "      <td>bedroom_2_light_1_switch_light_on</td>\n",
              "      <td>15</td>\n",
              "    </tr>\n",
              "    <tr>\n",
              "      <th>3</th>\n",
              "      <td>1589145425</td>\n",
              "      <td>outdoor_gate_1_switch</td>\n",
              "      <td>gate_close</td>\n",
              "      <td>outdoor_gate_1_switch_gate_close</td>\n",
              "      <td>51</td>\n",
              "    </tr>\n",
              "    <tr>\n",
              "      <th>4</th>\n",
              "      <td>1589145585</td>\n",
              "      <td>corridor_light_1_sensor</td>\n",
              "      <td>light_on</td>\n",
              "      <td>corridor_light_1_sensor_light_on</td>\n",
              "      <td>25</td>\n",
              "    </tr>\n",
              "  </tbody>\n",
              "</table>\n",
              "</div>"
            ],
            "text/plain": [
              "    timestamp  ... sensors_with_action_code\n",
              "0  1589144709  ...                       52\n",
              "1  1589144709  ...                       32\n",
              "2  1589144709  ...                       15\n",
              "3  1589145425  ...                       51\n",
              "4  1589145585  ...                       25\n",
              "\n",
              "[5 rows x 5 columns]"
            ]
          },
          "metadata": {
            "tags": []
          },
          "execution_count": 39
        }
      ]
    },
    {
      "cell_type": "markdown",
      "metadata": {
        "id": "R8MwS9YN2mu9"
      },
      "source": [
        "Jako wynik końcowy konwersji mamy akcje w postaci 'sensor_akcja' co daje nam tylko jedą daną, pozostałe kolumny nie będą nam potrzebne, jako, że zależy nam tylko na kolejności timestamp również nie będzie nam potrzebny. Przetwórzmy nasze dane do postaci X, Y tak, aby na podstawie X przewidywać naszego Y."
      ]
    },
    {
      "cell_type": "markdown",
      "metadata": {
        "id": "4u_CI9OhifdZ"
      },
      "source": [
        "### Przygotowanie danych do uczenia - przykład Pandas"
      ]
    },
    {
      "cell_type": "code",
      "metadata": {
        "id": "t3A8rkjhebJv",
        "colab": {
          "base_uri": "https://localhost:8080/"
        },
        "outputId": "ea6ac185-04a7-4d9e-dcbf-c2b183d1b965"
      },
      "source": [
        "Y_data = sensors_df.iloc[1:10000]\n",
        "Y_data.head()"
      ],
      "execution_count": null,
      "outputs": [
        {
          "output_type": "execute_result",
          "data": {
            "text/html": [
              "<div>\n",
              "<style scoped>\n",
              "    .dataframe tbody tr th:only-of-type {\n",
              "        vertical-align: middle;\n",
              "    }\n",
              "\n",
              "    .dataframe tbody tr th {\n",
              "        vertical-align: top;\n",
              "    }\n",
              "\n",
              "    .dataframe thead th {\n",
              "        text-align: right;\n",
              "    }\n",
              "</style>\n",
              "<table border=\"1\" class=\"dataframe\">\n",
              "  <thead>\n",
              "    <tr style=\"text-align: right;\">\n",
              "      <th></th>\n",
              "      <th>timestamp</th>\n",
              "      <th>sensor</th>\n",
              "      <th>action</th>\n",
              "      <th>sensors_with_action</th>\n",
              "      <th>sensors_with_action_code</th>\n",
              "    </tr>\n",
              "  </thead>\n",
              "  <tbody>\n",
              "    <tr>\n",
              "      <th>1</th>\n",
              "      <td>1589144709</td>\n",
              "      <td>kitchen_light_1_switch</td>\n",
              "      <td>light_on</td>\n",
              "      <td>kitchen_light_1_switch_light_on</td>\n",
              "      <td>32</td>\n",
              "    </tr>\n",
              "    <tr>\n",
              "      <th>2</th>\n",
              "      <td>1589144709</td>\n",
              "      <td>bedroom_2_light_1_switch</td>\n",
              "      <td>light_on</td>\n",
              "      <td>bedroom_2_light_1_switch_light_on</td>\n",
              "      <td>15</td>\n",
              "    </tr>\n",
              "    <tr>\n",
              "      <th>3</th>\n",
              "      <td>1589145425</td>\n",
              "      <td>outdoor_gate_1_switch</td>\n",
              "      <td>gate_close</td>\n",
              "      <td>outdoor_gate_1_switch_gate_close</td>\n",
              "      <td>51</td>\n",
              "    </tr>\n",
              "    <tr>\n",
              "      <th>4</th>\n",
              "      <td>1589145585</td>\n",
              "      <td>corridor_light_1_sensor</td>\n",
              "      <td>light_on</td>\n",
              "      <td>corridor_light_1_sensor_light_on</td>\n",
              "      <td>25</td>\n",
              "    </tr>\n",
              "    <tr>\n",
              "      <th>5</th>\n",
              "      <td>1589145774</td>\n",
              "      <td>bedroom_1_light_1_switch</td>\n",
              "      <td>light_on</td>\n",
              "      <td>bedroom_1_light_1_switch_light_on</td>\n",
              "      <td>7</td>\n",
              "    </tr>\n",
              "  </tbody>\n",
              "</table>\n",
              "</div>"
            ],
            "text/plain": [
              "    timestamp  ... sensors_with_action_code\n",
              "1  1589144709  ...                       32\n",
              "2  1589144709  ...                       15\n",
              "3  1589145425  ...                       51\n",
              "4  1589145585  ...                       25\n",
              "5  1589145774  ...                        7\n",
              "\n",
              "[5 rows x 5 columns]"
            ]
          },
          "metadata": {
            "tags": []
          },
          "execution_count": 40
        }
      ]
    },
    {
      "cell_type": "code",
      "metadata": {
        "id": "G--ocEMcfRQ3",
        "colab": {
          "base_uri": "https://localhost:8080/"
        },
        "outputId": "6e41cda6-98b9-422c-8829-2c9f9d55f9ea"
      },
      "source": [
        "sensors_df.tail()"
      ],
      "execution_count": null,
      "outputs": [
        {
          "output_type": "execute_result",
          "data": {
            "text/html": [
              "<div>\n",
              "<style scoped>\n",
              "    .dataframe tbody tr th:only-of-type {\n",
              "        vertical-align: middle;\n",
              "    }\n",
              "\n",
              "    .dataframe tbody tr th {\n",
              "        vertical-align: top;\n",
              "    }\n",
              "\n",
              "    .dataframe thead th {\n",
              "        text-align: right;\n",
              "    }\n",
              "</style>\n",
              "<table border=\"1\" class=\"dataframe\">\n",
              "  <thead>\n",
              "    <tr style=\"text-align: right;\">\n",
              "      <th></th>\n",
              "      <th>timestamp</th>\n",
              "      <th>sensor</th>\n",
              "      <th>action</th>\n",
              "      <th>sensors_with_action</th>\n",
              "      <th>sensors_with_action_code</th>\n",
              "    </tr>\n",
              "  </thead>\n",
              "  <tbody>\n",
              "    <tr>\n",
              "      <th>9995</th>\n",
              "      <td>1594049507</td>\n",
              "      <td>general_ac</td>\n",
              "      <td>temp_up</td>\n",
              "      <td>general_ac_temp_up</td>\n",
              "      <td>26</td>\n",
              "    </tr>\n",
              "    <tr>\n",
              "      <th>9996</th>\n",
              "      <td>1594050680</td>\n",
              "      <td>living_room_light_1_switch</td>\n",
              "      <td>light_on</td>\n",
              "      <td>living_room_light_1_switch_light_on</td>\n",
              "      <td>44</td>\n",
              "    </tr>\n",
              "    <tr>\n",
              "      <th>9997</th>\n",
              "      <td>1594050913</td>\n",
              "      <td>living_room_light_1_switch</td>\n",
              "      <td>light_off</td>\n",
              "      <td>living_room_light_1_switch_light_off</td>\n",
              "      <td>43</td>\n",
              "    </tr>\n",
              "    <tr>\n",
              "      <th>9998</th>\n",
              "      <td>1594052292</td>\n",
              "      <td>living_room_light_1_switch</td>\n",
              "      <td>light_on</td>\n",
              "      <td>living_room_light_1_switch_light_on</td>\n",
              "      <td>44</td>\n",
              "    </tr>\n",
              "    <tr>\n",
              "      <th>9999</th>\n",
              "      <td>1594053306</td>\n",
              "      <td>living_room_light_1_switch</td>\n",
              "      <td>light_off</td>\n",
              "      <td>living_room_light_1_switch_light_off</td>\n",
              "      <td>43</td>\n",
              "    </tr>\n",
              "  </tbody>\n",
              "</table>\n",
              "</div>"
            ],
            "text/plain": [
              "       timestamp  ... sensors_with_action_code\n",
              "9995  1594049507  ...                       26\n",
              "9996  1594050680  ...                       44\n",
              "9997  1594050913  ...                       43\n",
              "9998  1594052292  ...                       44\n",
              "9999  1594053306  ...                       43\n",
              "\n",
              "[5 rows x 5 columns]"
            ]
          },
          "metadata": {
            "tags": []
          },
          "execution_count": 41
        }
      ]
    },
    {
      "cell_type": "code",
      "metadata": {
        "id": "7AutrGdWfW-Q",
        "colab": {
          "base_uri": "https://localhost:8080/"
        },
        "outputId": "fe89cba2-2d8f-43b0-b7b8-729879b258da"
      },
      "source": [
        "Y_data.tail()"
      ],
      "execution_count": null,
      "outputs": [
        {
          "output_type": "execute_result",
          "data": {
            "text/html": [
              "<div>\n",
              "<style scoped>\n",
              "    .dataframe tbody tr th:only-of-type {\n",
              "        vertical-align: middle;\n",
              "    }\n",
              "\n",
              "    .dataframe tbody tr th {\n",
              "        vertical-align: top;\n",
              "    }\n",
              "\n",
              "    .dataframe thead th {\n",
              "        text-align: right;\n",
              "    }\n",
              "</style>\n",
              "<table border=\"1\" class=\"dataframe\">\n",
              "  <thead>\n",
              "    <tr style=\"text-align: right;\">\n",
              "      <th></th>\n",
              "      <th>timestamp</th>\n",
              "      <th>sensor</th>\n",
              "      <th>action</th>\n",
              "      <th>sensors_with_action</th>\n",
              "      <th>sensors_with_action_code</th>\n",
              "    </tr>\n",
              "  </thead>\n",
              "  <tbody>\n",
              "    <tr>\n",
              "      <th>9995</th>\n",
              "      <td>1594049507</td>\n",
              "      <td>general_ac</td>\n",
              "      <td>temp_up</td>\n",
              "      <td>general_ac_temp_up</td>\n",
              "      <td>26</td>\n",
              "    </tr>\n",
              "    <tr>\n",
              "      <th>9996</th>\n",
              "      <td>1594050680</td>\n",
              "      <td>living_room_light_1_switch</td>\n",
              "      <td>light_on</td>\n",
              "      <td>living_room_light_1_switch_light_on</td>\n",
              "      <td>44</td>\n",
              "    </tr>\n",
              "    <tr>\n",
              "      <th>9997</th>\n",
              "      <td>1594050913</td>\n",
              "      <td>living_room_light_1_switch</td>\n",
              "      <td>light_off</td>\n",
              "      <td>living_room_light_1_switch_light_off</td>\n",
              "      <td>43</td>\n",
              "    </tr>\n",
              "    <tr>\n",
              "      <th>9998</th>\n",
              "      <td>1594052292</td>\n",
              "      <td>living_room_light_1_switch</td>\n",
              "      <td>light_on</td>\n",
              "      <td>living_room_light_1_switch_light_on</td>\n",
              "      <td>44</td>\n",
              "    </tr>\n",
              "    <tr>\n",
              "      <th>9999</th>\n",
              "      <td>1594053306</td>\n",
              "      <td>living_room_light_1_switch</td>\n",
              "      <td>light_off</td>\n",
              "      <td>living_room_light_1_switch_light_off</td>\n",
              "      <td>43</td>\n",
              "    </tr>\n",
              "  </tbody>\n",
              "</table>\n",
              "</div>"
            ],
            "text/plain": [
              "       timestamp  ... sensors_with_action_code\n",
              "9995  1594049507  ...                       26\n",
              "9996  1594050680  ...                       44\n",
              "9997  1594050913  ...                       43\n",
              "9998  1594052292  ...                       44\n",
              "9999  1594053306  ...                       43\n",
              "\n",
              "[5 rows x 5 columns]"
            ]
          },
          "metadata": {
            "tags": []
          },
          "execution_count": 42
        }
      ]
    },
    {
      "cell_type": "code",
      "metadata": {
        "id": "Fq2EXeT1fqzS",
        "colab": {
          "base_uri": "https://localhost:8080/"
        },
        "outputId": "7c68d82f-f058-4cc5-f611-61c0b4557b70"
      },
      "source": [
        "Y_data = pd.concat([Y_data, sensors_df.iloc[0:1]], ignore_index=True)\n",
        "Y_data.tail()"
      ],
      "execution_count": null,
      "outputs": [
        {
          "output_type": "execute_result",
          "data": {
            "text/html": [
              "<div>\n",
              "<style scoped>\n",
              "    .dataframe tbody tr th:only-of-type {\n",
              "        vertical-align: middle;\n",
              "    }\n",
              "\n",
              "    .dataframe tbody tr th {\n",
              "        vertical-align: top;\n",
              "    }\n",
              "\n",
              "    .dataframe thead th {\n",
              "        text-align: right;\n",
              "    }\n",
              "</style>\n",
              "<table border=\"1\" class=\"dataframe\">\n",
              "  <thead>\n",
              "    <tr style=\"text-align: right;\">\n",
              "      <th></th>\n",
              "      <th>timestamp</th>\n",
              "      <th>sensor</th>\n",
              "      <th>action</th>\n",
              "      <th>sensors_with_action</th>\n",
              "      <th>sensors_with_action_code</th>\n",
              "    </tr>\n",
              "  </thead>\n",
              "  <tbody>\n",
              "    <tr>\n",
              "      <th>9995</th>\n",
              "      <td>1594050680</td>\n",
              "      <td>living_room_light_1_switch</td>\n",
              "      <td>light_on</td>\n",
              "      <td>living_room_light_1_switch_light_on</td>\n",
              "      <td>44</td>\n",
              "    </tr>\n",
              "    <tr>\n",
              "      <th>9996</th>\n",
              "      <td>1594050913</td>\n",
              "      <td>living_room_light_1_switch</td>\n",
              "      <td>light_off</td>\n",
              "      <td>living_room_light_1_switch_light_off</td>\n",
              "      <td>43</td>\n",
              "    </tr>\n",
              "    <tr>\n",
              "      <th>9997</th>\n",
              "      <td>1594052292</td>\n",
              "      <td>living_room_light_1_switch</td>\n",
              "      <td>light_on</td>\n",
              "      <td>living_room_light_1_switch_light_on</td>\n",
              "      <td>44</td>\n",
              "    </tr>\n",
              "    <tr>\n",
              "      <th>9998</th>\n",
              "      <td>1594053306</td>\n",
              "      <td>living_room_light_1_switch</td>\n",
              "      <td>light_off</td>\n",
              "      <td>living_room_light_1_switch_light_off</td>\n",
              "      <td>43</td>\n",
              "    </tr>\n",
              "    <tr>\n",
              "      <th>9999</th>\n",
              "      <td>1589144709</td>\n",
              "      <td>outdoor_gate_1_switch</td>\n",
              "      <td>gate_open</td>\n",
              "      <td>outdoor_gate_1_switch_gate_open</td>\n",
              "      <td>52</td>\n",
              "    </tr>\n",
              "  </tbody>\n",
              "</table>\n",
              "</div>"
            ],
            "text/plain": [
              "       timestamp  ... sensors_with_action_code\n",
              "9995  1594050680  ...                       44\n",
              "9996  1594050913  ...                       43\n",
              "9997  1594052292  ...                       44\n",
              "9998  1594053306  ...                       43\n",
              "9999  1589144709  ...                       52\n",
              "\n",
              "[5 rows x 5 columns]"
            ]
          },
          "metadata": {
            "tags": []
          },
          "execution_count": 43
        }
      ]
    },
    {
      "cell_type": "code",
      "metadata": {
        "id": "gtyoQol3glui",
        "colab": {
          "base_uri": "https://localhost:8080/"
        },
        "outputId": "8c161a12-75b8-4f0c-855d-1bdd7282f565"
      },
      "source": [
        "Y_data = Y_data.reset_index(drop=True)\n",
        "Y_data.tail()"
      ],
      "execution_count": null,
      "outputs": [
        {
          "output_type": "execute_result",
          "data": {
            "text/html": [
              "<div>\n",
              "<style scoped>\n",
              "    .dataframe tbody tr th:only-of-type {\n",
              "        vertical-align: middle;\n",
              "    }\n",
              "\n",
              "    .dataframe tbody tr th {\n",
              "        vertical-align: top;\n",
              "    }\n",
              "\n",
              "    .dataframe thead th {\n",
              "        text-align: right;\n",
              "    }\n",
              "</style>\n",
              "<table border=\"1\" class=\"dataframe\">\n",
              "  <thead>\n",
              "    <tr style=\"text-align: right;\">\n",
              "      <th></th>\n",
              "      <th>timestamp</th>\n",
              "      <th>sensor</th>\n",
              "      <th>action</th>\n",
              "      <th>sensors_with_action</th>\n",
              "      <th>sensors_with_action_code</th>\n",
              "    </tr>\n",
              "  </thead>\n",
              "  <tbody>\n",
              "    <tr>\n",
              "      <th>9995</th>\n",
              "      <td>1594050680</td>\n",
              "      <td>living_room_light_1_switch</td>\n",
              "      <td>light_on</td>\n",
              "      <td>living_room_light_1_switch_light_on</td>\n",
              "      <td>44</td>\n",
              "    </tr>\n",
              "    <tr>\n",
              "      <th>9996</th>\n",
              "      <td>1594050913</td>\n",
              "      <td>living_room_light_1_switch</td>\n",
              "      <td>light_off</td>\n",
              "      <td>living_room_light_1_switch_light_off</td>\n",
              "      <td>43</td>\n",
              "    </tr>\n",
              "    <tr>\n",
              "      <th>9997</th>\n",
              "      <td>1594052292</td>\n",
              "      <td>living_room_light_1_switch</td>\n",
              "      <td>light_on</td>\n",
              "      <td>living_room_light_1_switch_light_on</td>\n",
              "      <td>44</td>\n",
              "    </tr>\n",
              "    <tr>\n",
              "      <th>9998</th>\n",
              "      <td>1594053306</td>\n",
              "      <td>living_room_light_1_switch</td>\n",
              "      <td>light_off</td>\n",
              "      <td>living_room_light_1_switch_light_off</td>\n",
              "      <td>43</td>\n",
              "    </tr>\n",
              "    <tr>\n",
              "      <th>9999</th>\n",
              "      <td>1589144709</td>\n",
              "      <td>outdoor_gate_1_switch</td>\n",
              "      <td>gate_open</td>\n",
              "      <td>outdoor_gate_1_switch_gate_open</td>\n",
              "      <td>52</td>\n",
              "    </tr>\n",
              "  </tbody>\n",
              "</table>\n",
              "</div>"
            ],
            "text/plain": [
              "       timestamp  ... sensors_with_action_code\n",
              "9995  1594050680  ...                       44\n",
              "9996  1594050913  ...                       43\n",
              "9997  1594052292  ...                       44\n",
              "9998  1594053306  ...                       43\n",
              "9999  1589144709  ...                       52\n",
              "\n",
              "[5 rows x 5 columns]"
            ]
          },
          "metadata": {
            "tags": []
          },
          "execution_count": 44
        }
      ]
    },
    {
      "cell_type": "markdown",
      "metadata": {
        "id": "ndujSn1kipWo"
      },
      "source": [
        "Teraz mamy dokładnie dwa DataFrame'y przesunięte o jeden wiersz danych dokładnie tak samo jak w algorytmie generacji tekstu. Złączmy to w jeden dataSet, który potem przekonwertujemy do postaci dataSet'u wykorzystywanego w tensorFlow."
      ]
    },
    {
      "cell_type": "code",
      "metadata": {
        "id": "QeqZ2dQb47HT",
        "colab": {
          "base_uri": "https://localhost:8080/"
        },
        "outputId": "cdf56cb3-0cda-488b-a2cf-4430edc5bae6"
      },
      "source": [
        "new_dataSet = pd.DataFrame()\n",
        "new_dataSet['X'] = sensors_df['sensors_with_action_code']\n",
        "new_dataSet['Y'] = Y_data['sensors_with_action_code']\n",
        "new_dataSet.head()"
      ],
      "execution_count": null,
      "outputs": [
        {
          "output_type": "execute_result",
          "data": {
            "text/html": [
              "<div>\n",
              "<style scoped>\n",
              "    .dataframe tbody tr th:only-of-type {\n",
              "        vertical-align: middle;\n",
              "    }\n",
              "\n",
              "    .dataframe tbody tr th {\n",
              "        vertical-align: top;\n",
              "    }\n",
              "\n",
              "    .dataframe thead th {\n",
              "        text-align: right;\n",
              "    }\n",
              "</style>\n",
              "<table border=\"1\" class=\"dataframe\">\n",
              "  <thead>\n",
              "    <tr style=\"text-align: right;\">\n",
              "      <th></th>\n",
              "      <th>X</th>\n",
              "      <th>Y</th>\n",
              "    </tr>\n",
              "  </thead>\n",
              "  <tbody>\n",
              "    <tr>\n",
              "      <th>0</th>\n",
              "      <td>52</td>\n",
              "      <td>32</td>\n",
              "    </tr>\n",
              "    <tr>\n",
              "      <th>1</th>\n",
              "      <td>32</td>\n",
              "      <td>15</td>\n",
              "    </tr>\n",
              "    <tr>\n",
              "      <th>2</th>\n",
              "      <td>15</td>\n",
              "      <td>51</td>\n",
              "    </tr>\n",
              "    <tr>\n",
              "      <th>3</th>\n",
              "      <td>51</td>\n",
              "      <td>25</td>\n",
              "    </tr>\n",
              "    <tr>\n",
              "      <th>4</th>\n",
              "      <td>25</td>\n",
              "      <td>7</td>\n",
              "    </tr>\n",
              "  </tbody>\n",
              "</table>\n",
              "</div>"
            ],
            "text/plain": [
              "    X   Y\n",
              "0  52  32\n",
              "1  32  15\n",
              "2  15  51\n",
              "3  51  25\n",
              "4  25   7"
            ]
          },
          "metadata": {
            "tags": []
          },
          "execution_count": 45
        }
      ]
    },
    {
      "cell_type": "markdown",
      "metadata": {
        "id": "r5Zf_y0ji7qS"
      },
      "source": [
        "### Tworzenie próbek treningowych\n"
      ]
    },
    {
      "cell_type": "code",
      "metadata": {
        "id": "NB-pqwjBfAZu",
        "colab": {
          "base_uri": "https://localhost:8080/",
          "height": 34
        },
        "outputId": "605086ad-d77a-4508-ea5a-760480af84c4"
      },
      "source": [
        "# The maximum length sentence we want for a single input in characters\n",
        "seq_length = 100\n",
        "examples_per_epoch = len(new_dataSet)//(seq_length+1)\n",
        "print(examples_per_epoch)"
      ],
      "execution_count": null,
      "outputs": [
        {
          "output_type": "stream",
          "text": [
            "99\n"
          ],
          "name": "stdout"
        }
      ]
    },
    {
      "cell_type": "code",
      "metadata": {
        "id": "NxbaSJQvf-wh",
        "colab": {
          "base_uri": "https://localhost:8080/",
          "height": 34
        },
        "outputId": "1df06fc6-4a47-46a9-f1ae-77962ab8086f"
      },
      "source": [
        "sequence_dataset = tf.data.Dataset.from_tensor_slices(sensors_df['sensors_with_action_code'].values)\n",
        "sequence_dataset"
      ],
      "execution_count": null,
      "outputs": [
        {
          "output_type": "execute_result",
          "data": {
            "text/plain": [
              "<TensorSliceDataset shapes: (), types: tf.int8>"
            ]
          },
          "metadata": {
            "tags": []
          },
          "execution_count": 47
        }
      ]
    },
    {
      "cell_type": "code",
      "metadata": {
        "id": "rCZwgn-ogaQG",
        "colab": {
          "base_uri": "https://localhost:8080/",
          "height": 120
        },
        "outputId": "341ba39e-ebe6-4cef-a3fb-5b69599cd0fb"
      },
      "source": [
        "sequences = sequence_dataset.batch(seq_length+1, drop_remainder=True)\n",
        "sequences\n",
        "\n",
        "for item in sequences.take(1):\n",
        "  print(item)"
      ],
      "execution_count": null,
      "outputs": [
        {
          "output_type": "stream",
          "text": [
            "tf.Tensor(\n",
            "[52 32 15 51 25  7  9 34 31 21 14 20  8 21  6  7 23 24 33 15  6 14 20 15\n",
            " 14  7 22  9 11  5 10  8 44 46  4 43 44 48 38 43 47  6 37 44 43 45  7 44\n",
            "  6 43 44 43  1  0 32 21 25  7  9  6 24 31  7 20  6 25 24 26 32 26 34  8\n",
            "  1 33 34 31  0 26  1 44 33  0  1 46  0 43 44 48 38 43 37 44 47 21 45 46\n",
            " 20 48 45 21 43], shape=(101,), dtype=int8)\n"
          ],
          "name": "stdout"
        }
      ]
    },
    {
      "cell_type": "code",
      "metadata": {
        "id": "przOJhLbjpaC"
      },
      "source": [
        "def split_input_target(chunk):\n",
        "    input_text = chunk[:-1]\n",
        "    target_text = chunk[1:]\n",
        "    return input_text, target_text\n",
        "\n",
        "dataset = sequences.map(split_input_target)"
      ],
      "execution_count": null,
      "outputs": []
    },
    {
      "cell_type": "code",
      "metadata": {
        "id": "SN0RIMg3jsjd",
        "colab": {
          "base_uri": "https://localhost:8080/",
          "height": 189
        },
        "outputId": "ad7c2b0d-4f79-46f6-b170-81583c4b891f"
      },
      "source": [
        "for input_example, target_example in  dataset.take(1):\n",
        "  print ('Input data: ', input_example.numpy())\n",
        "  print ('Target data:', target_example.numpy())"
      ],
      "execution_count": null,
      "outputs": [
        {
          "output_type": "stream",
          "text": [
            "Input data:  [52 32 15 51 25  7  9 34 31 21 14 20  8 21  6  7 23 24 33 15  6 14 20 15\n",
            " 14  7 22  9 11  5 10  8 44 46  4 43 44 48 38 43 47  6 37 44 43 45  7 44\n",
            "  6 43 44 43  1  0 32 21 25  7  9  6 24 31  7 20  6 25 24 26 32 26 34  8\n",
            "  1 33 34 31  0 26  1 44 33  0  1 46  0 43 44 48 38 43 37 44 47 21 45 46\n",
            " 20 48 45 21]\n",
            "Target data: [32 15 51 25  7  9 34 31 21 14 20  8 21  6  7 23 24 33 15  6 14 20 15 14\n",
            "  7 22  9 11  5 10  8 44 46  4 43 44 48 38 43 47  6 37 44 43 45  7 44  6\n",
            " 43 44 43  1  0 32 21 25  7  9  6 24 31  7 20  6 25 24 26 32 26 34  8  1\n",
            " 33 34 31  0 26  1 44 33  0  1 46  0 43 44 48 38 43 37 44 47 21 45 46 20\n",
            " 48 45 21 43]\n"
          ],
          "name": "stdout"
        }
      ]
    },
    {
      "cell_type": "code",
      "metadata": {
        "id": "FfbgczLSj9BA",
        "colab": {
          "base_uri": "https://localhost:8080/",
          "height": 275
        },
        "outputId": "93cae88b-a42a-4020-f4a4-659b12d0c16e"
      },
      "source": [
        "for i, (input_idx, target_idx) in enumerate(zip(input_example[:5], target_example[:5])):\n",
        "    print(\"Step {:4d}\".format(i))\n",
        "    print(\"  input: {} ({:s})\".format(input_idx, getCategory(input_idx.numpy())))\n",
        "    print(\"  expected output: {} ({:s})\".format(target_idx, getCategory(target_idx.numpy())))"
      ],
      "execution_count": null,
      "outputs": [
        {
          "output_type": "stream",
          "text": [
            "Step    0\n",
            "  input: 52 (outdoor_gate_1_switch_gate_open)\n",
            "  expected output: 32 (kitchen_light_1_switch_light_on)\n",
            "Step    1\n",
            "  input: 32 (kitchen_light_1_switch_light_on)\n",
            "  expected output: 15 (bedroom_2_light_1_switch_light_on)\n",
            "Step    2\n",
            "  input: 15 (bedroom_2_light_1_switch_light_on)\n",
            "  expected output: 51 (outdoor_gate_1_switch_gate_close)\n",
            "Step    3\n",
            "  input: 51 (outdoor_gate_1_switch_gate_close)\n",
            "  expected output: 25 (corridor_light_1_sensor_light_on)\n",
            "Step    4\n",
            "  input: 25 (corridor_light_1_sensor_light_on)\n",
            "  expected output: 7 (bedroom_1_light_1_switch_light_on)\n"
          ],
          "name": "stdout"
        }
      ]
    },
    {
      "cell_type": "markdown",
      "metadata": {
        "id": "gDeRf1YUnlGW"
      },
      "source": [
        "### Tworzenie zestatów treningowych (tzw. batches)"
      ]
    },
    {
      "cell_type": "code",
      "metadata": {
        "id": "yxYFKf9rntHj",
        "colab": {
          "base_uri": "https://localhost:8080/",
          "height": 34
        },
        "outputId": "e3b60f31-0579-42ba-9ceb-789e39855bff"
      },
      "source": [
        "# Batch size\n",
        "BATCH_SIZE = 64\n",
        "\n",
        "# Buffer size to shuffle the dataset\n",
        "# (TF data is designed to work with possibly infinite sequences,\n",
        "# so it doesn't attempt to shuffle the entire sequence in memory. Instead,\n",
        "# it maintains a buffer in which it shuffles elements).\n",
        "BUFFER_SIZE = 10000\n",
        "\n",
        "dataset = dataset.shuffle(BUFFER_SIZE).batch(BATCH_SIZE, drop_remainder=True)\n",
        "\n",
        "dataset"
      ],
      "execution_count": null,
      "outputs": [
        {
          "output_type": "execute_result",
          "data": {
            "text/plain": [
              "<BatchDataset shapes: ((64, 100), (64, 100)), types: (tf.int8, tf.int8)>"
            ]
          },
          "metadata": {
            "tags": []
          },
          "execution_count": 52
        }
      ]
    },
    {
      "cell_type": "markdown",
      "metadata": {
        "id": "ReTY7sSHn3_b"
      },
      "source": [
        "### Budowanie modelu"
      ]
    },
    {
      "cell_type": "code",
      "metadata": {
        "id": "UqIYOAF7n7k2"
      },
      "source": [
        "# Length of the vocabulary (amount of categories)\n",
        "vocab_size = CATEGORIES_AMOUNT\n",
        "\n",
        "# The embedding dimension\n",
        "embedding_dim = 256\n",
        "\n",
        "# Number of RNN units\n",
        "rnn_units = 1024"
      ],
      "execution_count": null,
      "outputs": []
    },
    {
      "cell_type": "code",
      "metadata": {
        "id": "-4kpDtBmn9qb"
      },
      "source": [
        "def build_model(vocab_size, embedding_dim, rnn_units, batch_size):\n",
        "  model = tf.keras.Sequential([\n",
        "    tf.keras.layers.Embedding(vocab_size, embedding_dim,\n",
        "                              batch_input_shape=[batch_size, None]),\n",
        "    tf.keras.layers.GRU(rnn_units,\n",
        "                        return_sequences=True,\n",
        "                        stateful=True,\n",
        "                        recurrent_initializer='glorot_uniform'),\n",
        "    tf.keras.layers.Dense(vocab_size)\n",
        "  ])\n",
        "  return model"
      ],
      "execution_count": null,
      "outputs": []
    },
    {
      "cell_type": "code",
      "metadata": {
        "id": "0xylaXKWoRjD"
      },
      "source": [
        "model = build_model(\n",
        "  vocab_size = vocab_size,\n",
        "  embedding_dim=embedding_dim,\n",
        "  rnn_units=rnn_units,\n",
        "  batch_size=BATCH_SIZE)"
      ],
      "execution_count": null,
      "outputs": []
    },
    {
      "cell_type": "markdown",
      "metadata": {
        "id": "_h2sVzDIoekK"
      },
      "source": [
        "### Wypróbowanie modelu"
      ]
    },
    {
      "cell_type": "code",
      "metadata": {
        "id": "mrrhxCa1ohBs",
        "colab": {
          "base_uri": "https://localhost:8080/",
          "height": 34
        },
        "outputId": "946c2ecf-e458-40f5-bba7-80122e50b26d"
      },
      "source": [
        "for input_example_batch, target_example_batch in dataset.take(1):\n",
        "  example_batch_predictions = model(input_example_batch)\n",
        "  print(example_batch_predictions.shape, \"# (batch_size, sequence_length, vocab_size)\")"
      ],
      "execution_count": null,
      "outputs": [
        {
          "output_type": "stream",
          "text": [
            "(64, 100, 59) # (batch_size, sequence_length, vocab_size)\n"
          ],
          "name": "stdout"
        }
      ]
    },
    {
      "cell_type": "code",
      "metadata": {
        "id": "sMWz0qSYooxK",
        "colab": {
          "base_uri": "https://localhost:8080/",
          "height": 258
        },
        "outputId": "f6c74ecf-29af-4c57-97e9-3976dc14f004"
      },
      "source": [
        "model.summary()"
      ],
      "execution_count": null,
      "outputs": [
        {
          "output_type": "stream",
          "text": [
            "Model: \"sequential_2\"\n",
            "_________________________________________________________________\n",
            "Layer (type)                 Output Shape              Param #   \n",
            "=================================================================\n",
            "embedding_2 (Embedding)      (64, None, 256)           15104     \n",
            "_________________________________________________________________\n",
            "gru_2 (GRU)                  (64, None, 1024)          3938304   \n",
            "_________________________________________________________________\n",
            "dense_2 (Dense)              (64, None, 59)            60475     \n",
            "=================================================================\n",
            "Total params: 4,013,883\n",
            "Trainable params: 4,013,883\n",
            "Non-trainable params: 0\n",
            "_________________________________________________________________\n"
          ],
          "name": "stdout"
        }
      ]
    },
    {
      "cell_type": "code",
      "metadata": {
        "id": "2sCSjT97ovFu"
      },
      "source": [
        "sampled_indices = tf.random.categorical(example_batch_predictions[0], num_samples=1)\n",
        "sampled_indices = tf.squeeze(sampled_indices,axis=-1).numpy()"
      ],
      "execution_count": null,
      "outputs": []
    },
    {
      "cell_type": "code",
      "metadata": {
        "id": "OxUmQcjlowGk",
        "colab": {
          "base_uri": "https://localhost:8080/",
          "height": 120
        },
        "outputId": "e7c5ae90-1b1c-4956-a2f4-95c191c7482b"
      },
      "source": [
        "sampled_indices"
      ],
      "execution_count": null,
      "outputs": [
        {
          "output_type": "execute_result",
          "data": {
            "text/plain": [
              "array([43, 47, 12, 28, 22, 38, 37, 58, 50, 14, 27,  4, 16, 31,  6, 11, 11,\n",
              "       40, 54, 18,  4,  3, 50,  1, 57, 55, 20,  7, 37, 47, 23, 31, 54, 53,\n",
              "       29, 56, 10, 53, 43, 20, 19,  0, 41, 31, 47, 33,  5, 51,  6, 58,  5,\n",
              "       26, 45,  3, 21, 33, 48, 33, 42, 11, 16, 48, 16, 24, 50,  9,  5, 22,\n",
              "       54,  6, 55,  8,  1,  0, 30,  2, 54,  7, 31, 44, 10,  3,  0, 42, 22,\n",
              "       43, 29, 42,  4, 36, 28, 25, 43, 28, 39, 14, 17, 39, 53, 42])"
            ]
          },
          "metadata": {
            "tags": []
          },
          "execution_count": 59
        }
      ]
    },
    {
      "cell_type": "code",
      "metadata": {
        "id": "8gOtrjoTo3is",
        "colab": {
          "base_uri": "https://localhost:8080/",
          "height": 448
        },
        "outputId": "07bad4ae-3a88-4679-93b4-be2ed6814f3f"
      },
      "source": [
        "print(\"Input: \\n\")\n",
        "for i in input_example_batch[0][:10]:\n",
        "  print(getCategory(i.numpy()))\n",
        "\n",
        "print(\"\\nPredicted: \\n\")\n",
        "for i in sampled_indices[:10]:\n",
        "  print(getCategory(i))"
      ],
      "execution_count": null,
      "outputs": [
        {
          "output_type": "stream",
          "text": [
            "Input: \n",
            "\n",
            "living_room_light_3_switch_light_off\n",
            "living_room_light_2_switch_light_off\n",
            "living_room_light_2_switch_light_on\n",
            "living_room_light_1_switch_light_off\n",
            "living_room_light_2_switch_light_off\n",
            "outdoor_gate_1_switch_gate_open\n",
            "bedroom_3_light_1_switch_light_on\n",
            "outdoor_gate_1_switch_gate_close\n",
            "bedroom_1_light_1_switch_light_on\n",
            "bedroom_1_light_2_switch_light_on\n",
            "\n",
            "Predicted: \n",
            "\n",
            "living_room_light_1_switch_light_off\n",
            "living_room_light_3_switch_light_off\n",
            "bedroom_2_blind_1_switch_blind_down\n",
            "kitchen_blind_1_switch_blind_up\n",
            "bedroom_3_light_2_switch_light_off\n",
            "living_room_blind_1_switch_blind_up\n",
            "living_room_blind_1_switch_blind_down\n",
            "outdoor_light_2_sensor_light_on\n",
            "living_room_tv_on\n",
            "bedroom_2_light_1_switch_light_off\n"
          ],
          "name": "stdout"
        }
      ]
    },
    {
      "cell_type": "markdown",
      "metadata": {
        "id": "-0FMfe4yrH57"
      },
      "source": [
        "### Dodanie do modelu funkcji straty, optymizera oraz tzw. checkpointów"
      ]
    },
    {
      "cell_type": "code",
      "metadata": {
        "id": "DnoWyS0NrPzn",
        "colab": {
          "base_uri": "https://localhost:8080/",
          "height": 51
        },
        "outputId": "50a26b81-e7a4-4ccd-e606-b0397e7c28b0"
      },
      "source": [
        "def loss(labels, logits):\n",
        "  return tf.keras.losses.sparse_categorical_crossentropy(labels, logits, from_logits=True)\n",
        "\n",
        "example_batch_loss  = loss(target_example_batch, example_batch_predictions)\n",
        "print(\"Prediction shape: \", example_batch_predictions.shape, \" # (batch_size, sequence_length, vocab_size)\")\n",
        "print(\"scalar_loss:      \", example_batch_loss.numpy().mean())"
      ],
      "execution_count": null,
      "outputs": [
        {
          "output_type": "stream",
          "text": [
            "Prediction shape:  (64, 100, 59)  # (batch_size, sequence_length, vocab_size)\n",
            "scalar_loss:       4.0775733\n"
          ],
          "name": "stdout"
        }
      ]
    },
    {
      "cell_type": "code",
      "metadata": {
        "id": "3eHWow9WrUB0"
      },
      "source": [
        "model.compile(optimizer='adam', loss=loss)"
      ],
      "execution_count": null,
      "outputs": []
    },
    {
      "cell_type": "code",
      "metadata": {
        "id": "S4JGk8EVrdu9"
      },
      "source": [
        "import os\n",
        "# Directory where the checkpoints will be saved\n",
        "checkpoint_dir = './training_checkpoints'\n",
        "# Name of the checkpoint files\n",
        "checkpoint_prefix = os.path.join(checkpoint_dir, \"ckpt_{epoch}\")\n",
        "\n",
        "checkpoint_callback=tf.keras.callbacks.ModelCheckpoint(\n",
        "    filepath=checkpoint_prefix,\n",
        "    save_weights_only=True)"
      ],
      "execution_count": null,
      "outputs": []
    },
    {
      "cell_type": "markdown",
      "metadata": {
        "id": "l7tmn9_3rtNQ"
      },
      "source": [
        "### Trening modelu"
      ]
    },
    {
      "cell_type": "code",
      "metadata": {
        "id": "bYmB9W9rrv7X",
        "colab": {
          "base_uri": "https://localhost:8080/",
          "height": 709
        },
        "outputId": "58ddec7f-3599-4840-e7e2-4ae1cc5c90a9"
      },
      "source": [
        "EPOCHS = 10\n",
        "history = model.fit(dataset, epochs=EPOCHS, callbacks=[checkpoint_callback])"
      ],
      "execution_count": null,
      "outputs": [
        {
          "output_type": "stream",
          "text": [
            "Epoch 1/10\n",
            "1/1 [==============================] - 0s 88ms/step - loss: 4.0776\n",
            "Epoch 2/10\n",
            "1/1 [==============================] - 1s 1s/step - loss: 4.0556\n",
            "Epoch 3/10\n",
            "1/1 [==============================] - 1s 1s/step - loss: 4.0266\n",
            "Epoch 4/10\n",
            "1/1 [==============================] - ETA: 0s - loss: 3.9656WARNING:tensorflow:Unresolved object in checkpoint: (root).optimizer\n",
            "WARNING:tensorflow:Unresolved object in checkpoint: (root).optimizer.iter\n",
            "WARNING:tensorflow:Unresolved object in checkpoint: (root).optimizer.beta_1\n",
            "WARNING:tensorflow:Unresolved object in checkpoint: (root).optimizer.beta_2\n",
            "WARNING:tensorflow:Unresolved object in checkpoint: (root).optimizer.decay\n",
            "WARNING:tensorflow:Unresolved object in checkpoint: (root).optimizer.learning_rate\n",
            "WARNING:tensorflow:Unresolved object in checkpoint: (root).optimizer's state 'm' for (root).layer_with_weights-0.embeddings\n",
            "WARNING:tensorflow:Unresolved object in checkpoint: (root).optimizer's state 'm' for (root).layer_with_weights-2.kernel\n",
            "WARNING:tensorflow:Unresolved object in checkpoint: (root).optimizer's state 'm' for (root).layer_with_weights-2.bias\n",
            "WARNING:tensorflow:Unresolved object in checkpoint: (root).optimizer's state 'm' for (root).layer_with_weights-1.cell.kernel\n",
            "WARNING:tensorflow:Unresolved object in checkpoint: (root).optimizer's state 'm' for (root).layer_with_weights-1.cell.recurrent_kernel\n",
            "WARNING:tensorflow:Unresolved object in checkpoint: (root).optimizer's state 'm' for (root).layer_with_weights-1.cell.bias\n",
            "WARNING:tensorflow:Unresolved object in checkpoint: (root).optimizer's state 'v' for (root).layer_with_weights-0.embeddings\n",
            "WARNING:tensorflow:Unresolved object in checkpoint: (root).optimizer's state 'v' for (root).layer_with_weights-2.kernel\n",
            "WARNING:tensorflow:Unresolved object in checkpoint: (root).optimizer's state 'v' for (root).layer_with_weights-2.bias\n",
            "WARNING:tensorflow:Unresolved object in checkpoint: (root).optimizer's state 'v' for (root).layer_with_weights-1.cell.kernel\n",
            "WARNING:tensorflow:Unresolved object in checkpoint: (root).optimizer's state 'v' for (root).layer_with_weights-1.cell.recurrent_kernel\n",
            "WARNING:tensorflow:Unresolved object in checkpoint: (root).optimizer's state 'v' for (root).layer_with_weights-1.cell.bias\n",
            "WARNING:tensorflow:A checkpoint was restored (e.g. tf.train.Checkpoint.restore or tf.keras.Model.load_weights) but not all checkpointed values were used. See above for specific issues. Use expect_partial() on the load status object, e.g. tf.train.Checkpoint.restore(...).expect_partial(), to silence these warnings, or use assert_consumed() to make the check explicit. See https://www.tensorflow.org/guide/checkpoint#loading_mechanics for details.\n",
            "1/1 [==============================] - 1s 1s/step - loss: 3.9656\n",
            "Epoch 5/10\n",
            "1/1 [==============================] - 1s 1s/step - loss: 3.8083\n",
            "Epoch 6/10\n",
            "1/1 [==============================] - 0s 88ms/step - loss: 3.8572\n",
            "Epoch 7/10\n",
            "1/1 [==============================] - 1s 1s/step - loss: 3.9116\n",
            "Epoch 8/10\n",
            "1/1 [==============================] - 1s 1s/step - loss: 3.9136\n",
            "Epoch 9/10\n",
            "1/1 [==============================] - 1s 1s/step - loss: 3.8987\n",
            "Epoch 10/10\n",
            "1/1 [==============================] - 0s 84ms/step - loss: 3.8778\n"
          ],
          "name": "stdout"
        }
      ]
    },
    {
      "cell_type": "markdown",
      "metadata": {
        "id": "zTu07alSr_G-"
      },
      "source": [
        "### Zmiana minimalnego rozmiaru próbki predykcyjnej i przebudowanie modelu"
      ]
    },
    {
      "cell_type": "code",
      "metadata": {
        "id": "jz3vQ1CcsHNV",
        "colab": {
          "base_uri": "https://localhost:8080/",
          "height": 258
        },
        "outputId": "4731907d-6809-4c6d-d788-b8689eb48393"
      },
      "source": [
        "tf.train.latest_checkpoint(checkpoint_dir)\n",
        "model = build_model(vocab_size, embedding_dim, rnn_units, batch_size=1)\n",
        "model.load_weights(tf.train.latest_checkpoint(checkpoint_dir))\n",
        "model.build(tf.TensorShape([1, None]))\n",
        "model.summary()"
      ],
      "execution_count": null,
      "outputs": [
        {
          "output_type": "stream",
          "text": [
            "Model: \"sequential_3\"\n",
            "_________________________________________________________________\n",
            "Layer (type)                 Output Shape              Param #   \n",
            "=================================================================\n",
            "embedding_3 (Embedding)      (1, None, 256)            15104     \n",
            "_________________________________________________________________\n",
            "gru_3 (GRU)                  (1, None, 1024)           3938304   \n",
            "_________________________________________________________________\n",
            "dense_3 (Dense)              (1, None, 59)             60475     \n",
            "=================================================================\n",
            "Total params: 4,013,883\n",
            "Trainable params: 4,013,883\n",
            "Non-trainable params: 0\n",
            "_________________________________________________________________\n"
          ],
          "name": "stdout"
        }
      ]
    },
    {
      "cell_type": "markdown",
      "metadata": {
        "id": "rvl1y2SkjCcQ"
      },
      "source": [
        "### Stworzenie funkcji generującej sekwencje"
      ]
    },
    {
      "cell_type": "code",
      "metadata": {
        "id": "Qxq-aG-2sL2C"
      },
      "source": [
        "def generate_sequences(model, start_sequence_event_id):\n",
        "  num_generate = 10 # Liczba zdarzeń w sekwencji do wygenerowania\n",
        "\n",
        "  # Converting our start frame to vector of numbers (vectorizing)\n",
        "  input_eval = [start_sequence_event_id]\n",
        "  input_eval = tf.expand_dims(input_eval, 0)\n",
        "\n",
        "  # Empty string to store our results\n",
        "  generated_sequences = []\n",
        "\n",
        "  # Low temperatures results in more predictable events.\n",
        "  # Higher temperatures results in more surprising events.\n",
        "  # Experiment to find the best setting.\n",
        "  temperature = 1.0\n",
        "\n",
        "  # Here batch size == 1\n",
        "  model.reset_states()\n",
        "  for i in range(num_generate):\n",
        "      predictions = model(input_eval)\n",
        "      # remove the batch dimension\n",
        "      predictions = tf.squeeze(predictions, 0)\n",
        "\n",
        "      # using a categorical distribution to predict the character returned by the model\n",
        "      predictions = predictions / temperature\n",
        "      predicted_id = tf.random.categorical(predictions, num_samples=1)[-1,0].numpy()\n",
        "\n",
        "      # We pass the predicted character as the next input to the model\n",
        "      # along with the previous hidden state\n",
        "      input_eval = tf.expand_dims([predicted_id], 0)\n",
        "\n",
        "      generated_sequences.append(getCategory(predicted_id))\n",
        "\n",
        "  generated_sequences.insert(0, getCategory(start_sequence_event_id))\n",
        "  return  generated_sequences"
      ],
      "execution_count": null,
      "outputs": []
    },
    {
      "cell_type": "code",
      "metadata": {
        "id": "DPVruVKGjXHs",
        "colab": {
          "base_uri": "https://localhost:8080/",
          "height": 54
        },
        "outputId": "c8aabfcc-2902-4a44-e648-bc511a61e8f8"
      },
      "source": [
        "print(generate_sequences(model, start_sequence_event_id=26))"
      ],
      "execution_count": null,
      "outputs": [
        {
          "output_type": "stream",
          "text": [
            "['general_ac_temp_up', 'bedroom_2_light_2_switch_light_on', 'living_room_light_2_switch_light_on', 'bedroom_1_light_3_switch_light_off', 'kitchen_blind_1_switch_blind_up', 'kitchen_blind_2_switch_blind_up', 'bathroom_light_1_switch_light_on', 'living_room_light_3_switch_light_on', 'bedroom_2_light_2_switch_light_on', 'bedroom_2_blind_1_switch_blind_up', 'living_room_light_2_switch_light_off']\n"
          ],
          "name": "stdout"
        }
      ]
    },
    {
      "cell_type": "code",
      "metadata": {
        "id": "Lms5Kd6Ft5Hq",
        "colab": {
          "base_uri": "https://localhost:8080/",
          "height": 54
        },
        "outputId": "595e5671-26db-4cde-aa60-450fb31076a4"
      },
      "source": [
        "print(generate_sequences(model, start_sequence_event_id=3))"
      ],
      "execution_count": null,
      "outputs": [
        {
          "output_type": "stream",
          "text": [
            "['bathroom_light_2_switch_light_on', 'bedroom_1_light_1_switch_light_off', 'living_room_light_1_switch_light_on', 'bedroom_1_light_3_switch_light_on', 'living_room_blind_1_switch_blind_up', 'bedroom_3_blind_1_switch_blind_up', 'bedroom_2_light_1_switch_light_off', 'bedroom_3_light_1_switch_light_on', 'bedroom_2_light_1_switch_light_on', 'kitchen_light_1_switch_light_on', 'bedroom_1_light_1_switch_light_off']\n"
          ],
          "name": "stdout"
        }
      ]
    },
    {
      "cell_type": "code",
      "metadata": {
        "id": "NqPJ_aUht8Hq",
        "colab": {
          "base_uri": "https://localhost:8080/",
          "height": 54
        },
        "outputId": "51367698-9dc2-4ef3-d3b0-d606a4574759"
      },
      "source": [
        "print(generate_sequences(model, start_sequence_event_id=50))"
      ],
      "execution_count": null,
      "outputs": [
        {
          "output_type": "stream",
          "text": [
            "['living_room_tv_on', 'living_room_blind_3_switch_blind_up', 'bedroom_2_light_2_switch_light_off', 'bedroom_1_blind_1_switch_blind_up', 'bedroom_1_light_1_switch_light_off', 'corridor_light_1_sensor_light_on', 'outdoor_gate_2_switch_gate_open', 'general_ac_temp_up', 'general_ac_temp_up', 'bedroom_2_light_1_switch_light_off', 'outdoor_gate_1_switch_gate_open']\n"
          ],
          "name": "stdout"
        }
      ]
    }
  ]
}