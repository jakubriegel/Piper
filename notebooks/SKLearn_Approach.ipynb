{
  "nbformat": 4,
  "nbformat_minor": 0,
  "metadata": {
    "colab": {
      "name": "SKLearn_Approach.ipynb",
      "provenance": [],
      "collapsed_sections": [
        "BF9hrpaaw-Os"
      ],
      "toc_visible": true
    },
    "kernelspec": {
      "name": "python3",
      "display_name": "Python 3"
    }
  },
  "cells": [
    {
      "cell_type": "markdown",
      "metadata": {
        "id": "G4EZVcOKu76s"
      },
      "source": [
        "# Analiza technologii `sklearn`"
      ]
    },
    {
      "cell_type": "markdown",
      "metadata": {
        "id": "BF9hrpaaw-Os"
      },
      "source": [
        "## Przygotowanie środowiska"
      ]
    },
    {
      "cell_type": "code",
      "metadata": {
        "id": "aTEzlhqAuClJ"
      },
      "source": [
        "import pandas as pd\n",
        "import numpy as np\n",
        "from sklearn.ensemble import RandomForestClassifier"
      ],
      "execution_count": null,
      "outputs": []
    },
    {
      "cell_type": "markdown",
      "metadata": {
        "id": "pEAtAxg-vCih"
      },
      "source": [
        "## Dane"
      ]
    },
    {
      "cell_type": "markdown",
      "metadata": {
        "id": "6mFymWPzySQq"
      },
      "source": [
        "### Wczytanie danych o zdarzeniach"
      ]
    },
    {
      "cell_type": "code",
      "metadata": {
        "id": "2TDDzUDXvMIc"
      },
      "source": [
        "events = pd.read_csv('data.csv', names=['time', 'trigger', 'event'])"
      ],
      "execution_count": null,
      "outputs": []
    },
    {
      "cell_type": "markdown",
      "metadata": {
        "id": "jjjdfqiqyUjC"
      },
      "source": [
        "### Przygotowanie danych do predykcji (tzw. *feature engineering*)"
      ]
    },
    {
      "cell_type": "markdown",
      "metadata": {
        "id": "D4-x1Pmc5kxS"
      },
      "source": [
        "#### Projekcja listy zdarzeń na pary następujących po sobie zdarzeń"
      ]
    },
    {
      "cell_type": "code",
      "metadata": {
        "id": "p8BKjwnnvggd"
      },
      "source": [
        "data = pd.DataFrame()\n",
        "data['timestamp'] = events['time']\n",
        "data['first'] = events['trigger'] + '_' + events['event']\n",
        "data['second'] = data['first'].shift(-1)\n",
        "data = data[:-1]"
      ],
      "execution_count": null,
      "outputs": []
    },
    {
      "cell_type": "markdown",
      "metadata": {
        "id": "H_vhLR2e5gbH"
      },
      "source": [
        "#### Zamiana zdarzeń na ich hash\n",
        "\n"
      ]
    },
    {
      "cell_type": "code",
      "metadata": {
        "id": "CyWJ2laf5NJU"
      },
      "source": [
        "data['first_#'] = data['first'].map(lambda e: hash(e))\n",
        "data['second_#'] = data['second'].map(lambda e: hash(e))"
      ],
      "execution_count": null,
      "outputs": []
    },
    {
      "cell_type": "markdown",
      "metadata": {
        "id": "VhsnQVuy5yEz"
      },
      "source": [
        "#### Dodanie informacji o porze dnia"
      ]
    },
    {
      "cell_type": "code",
      "metadata": {
        "id": "Y-GWNvq1yKoQ"
      },
      "source": [
        "from datetime import datetime\n",
        "\n",
        "def timestamp_to_seconds_of_day(timestamp: int) -> int:\n",
        "  t = datetime.fromtimestamp(timestamp)\n",
        "  midnight = t.replace(hour=0, minute=0, second=0, microsecond=0)\n",
        "  return (t - midnight).seconds\n",
        "\n",
        "def timestamp_to_part_of_day(timestamp: int) -> int:\n",
        "  seconds = timestamp_to_seconds_of_day(timestamp)\n",
        "  part = int(seconds / 60 / 60 / 6) + 1\n",
        "  return f'part_of_day_{part}'\n",
        "\n",
        "data['part_of_day'] = data['timestamp'].map(timestamp_to_part_of_day)\n",
        "data = data.join(\n",
        "  pd.get_dummies(data['part_of_day'])\n",
        ")"
      ],
      "execution_count": null,
      "outputs": []
    },
    {
      "cell_type": "markdown",
      "metadata": {
        "id": "McBiXEYi53B4"
      },
      "source": [
        "### Końcowa postać danych"
      ]
    },
    {
      "cell_type": "code",
      "metadata": {
        "id": "qBGoPYipygzT",
        "colab": {
          "base_uri": "https://localhost:8080/",
          "height": 157
        },
        "outputId": "9a0f22e4-1382-420d-ba78-2fa23d6e10d8"
      },
      "source": [
        "data.head(3)"
      ],
      "execution_count": null,
      "outputs": [
        {
          "output_type": "execute_result",
          "data": {
            "text/html": [
              "<div>\n",
              "<style scoped>\n",
              "    .dataframe tbody tr th:only-of-type {\n",
              "        vertical-align: middle;\n",
              "    }\n",
              "\n",
              "    .dataframe tbody tr th {\n",
              "        vertical-align: top;\n",
              "    }\n",
              "\n",
              "    .dataframe thead th {\n",
              "        text-align: right;\n",
              "    }\n",
              "</style>\n",
              "<table border=\"1\" class=\"dataframe\">\n",
              "  <thead>\n",
              "    <tr style=\"text-align: right;\">\n",
              "      <th></th>\n",
              "      <th>timestamp</th>\n",
              "      <th>first</th>\n",
              "      <th>second</th>\n",
              "      <th>first_#</th>\n",
              "      <th>second_#</th>\n",
              "      <th>part_of_day</th>\n",
              "      <th>part_of_day_1</th>\n",
              "      <th>part_of_day_2</th>\n",
              "      <th>part_of_day_3</th>\n",
              "      <th>part_of_day_4</th>\n",
              "    </tr>\n",
              "  </thead>\n",
              "  <tbody>\n",
              "    <tr>\n",
              "      <th>0</th>\n",
              "      <td>1589144709</td>\n",
              "      <td>outdoor_gate_1_switch_gate_open</td>\n",
              "      <td>kitchen_light_1_switch_light_on</td>\n",
              "      <td>3288388533445299961</td>\n",
              "      <td>-1955586423453594671</td>\n",
              "      <td>part_of_day_4</td>\n",
              "      <td>0</td>\n",
              "      <td>0</td>\n",
              "      <td>0</td>\n",
              "      <td>1</td>\n",
              "    </tr>\n",
              "    <tr>\n",
              "      <th>1</th>\n",
              "      <td>1589144709</td>\n",
              "      <td>kitchen_light_1_switch_light_on</td>\n",
              "      <td>bedroom_2_light_1_switch_light_on</td>\n",
              "      <td>-1955586423453594671</td>\n",
              "      <td>2920417917512579431</td>\n",
              "      <td>part_of_day_4</td>\n",
              "      <td>0</td>\n",
              "      <td>0</td>\n",
              "      <td>0</td>\n",
              "      <td>1</td>\n",
              "    </tr>\n",
              "    <tr>\n",
              "      <th>2</th>\n",
              "      <td>1589144709</td>\n",
              "      <td>bedroom_2_light_1_switch_light_on</td>\n",
              "      <td>outdoor_gate_1_switch_gate_close</td>\n",
              "      <td>2920417917512579431</td>\n",
              "      <td>2908511941534193630</td>\n",
              "      <td>part_of_day_4</td>\n",
              "      <td>0</td>\n",
              "      <td>0</td>\n",
              "      <td>0</td>\n",
              "      <td>1</td>\n",
              "    </tr>\n",
              "  </tbody>\n",
              "</table>\n",
              "</div>"
            ],
            "text/plain": [
              "    timestamp                              first  ... part_of_day_3  part_of_day_4\n",
              "0  1589144709    outdoor_gate_1_switch_gate_open  ...             0              1\n",
              "1  1589144709    kitchen_light_1_switch_light_on  ...             0              1\n",
              "2  1589144709  bedroom_2_light_1_switch_light_on  ...             0              1\n",
              "\n",
              "[3 rows x 10 columns]"
            ]
          },
          "metadata": {
            "tags": []
          },
          "execution_count": 22
        }
      ]
    },
    {
      "cell_type": "markdown",
      "metadata": {
        "id": "x9rJQu2iyg7i"
      },
      "source": [
        "## Predykcje"
      ]
    },
    {
      "cell_type": "code",
      "metadata": {
        "id": "w8nhzKEXBatG"
      },
      "source": [
        "FEATURES = ['first_#', 'part_of_day_1', 'part_of_day_2', 'part_of_day_3', 'part_of_day_4']\n",
        "unique_events = data[FEATURES].drop_duplicates().reset_index(drop=True)"
      ],
      "execution_count": null,
      "outputs": []
    },
    {
      "cell_type": "code",
      "metadata": {
        "id": "-nWgMzPdyj71"
      },
      "source": [
        "rf = RandomForestClassifier(n_estimators = 100, random_state = 42)\n",
        "rf.fit(data[FEATURES], data['second_#']);"
      ],
      "execution_count": null,
      "outputs": []
    },
    {
      "cell_type": "code",
      "metadata": {
        "id": "764W43Vl0IAo"
      },
      "source": [
        " probability = rf.predict_proba(unique_events)"
      ],
      "execution_count": null,
      "outputs": []
    },
    {
      "cell_type": "markdown",
      "metadata": {
        "id": "UjQx7kUo6MrN"
      },
      "source": [
        "## Interpretacja predykcji"
      ]
    },
    {
      "cell_type": "markdown",
      "metadata": {
        "id": "lmgk0eehMDLt"
      },
      "source": [
        "### Połączenie prawdopodobieństwa ze zdarzniami"
      ]
    },
    {
      "cell_type": "code",
      "metadata": {
        "id": "QFWRH58K6ODg"
      },
      "source": [
        "results = pd.DataFrame(columns=['probability', 'second_#'])\n",
        "for n in range(len(probability)):\n",
        "  prob_with_hash = np.column_stack((probability[n], [str(c) for c in rf.classes_]))\n",
        "  df = pd.DataFrame(prob_with_hash, columns=['probability', 'second_#'])\n",
        "  df['first_#'] = str(unique_events['first_#'][n])\n",
        "  df['part_of_day_1'] = str(unique_events['part_of_day_1'][n])\n",
        "  df['part_of_day_2'] = str(unique_events['part_of_day_2'][n])\n",
        "  df['part_of_day_3'] = str(unique_events['part_of_day_3'][n])\n",
        "  df['part_of_day_4'] = str(unique_events['part_of_day_4'][n])\n",
        "  results = results.append(df, ignore_index=True).reset_index(drop=True)"
      ],
      "execution_count": null,
      "outputs": []
    },
    {
      "cell_type": "code",
      "metadata": {
        "id": "HlOiEpRwBxiE"
      },
      "source": [
        "results = results.sort_values(by='probability', ascending=False)"
      ],
      "execution_count": null,
      "outputs": []
    },
    {
      "cell_type": "markdown",
      "metadata": {
        "id": "xzrjY8l4MPmC"
      },
      "source": [
        "### Wybór kandydatów na początki **sekwencji**"
      ]
    },
    {
      "cell_type": "code",
      "metadata": {
        "id": "DlAZfcH3KK3g",
        "colab": {
          "base_uri": "https://localhost:8080/",
          "height": 137
        },
        "outputId": "ec88526d-ef42-4da1-97f2-190414f51a92"
      },
      "source": [
        "top = results[results['probability'].map(float) > 0.65]\n",
        "top"
      ],
      "execution_count": null,
      "outputs": [
        {
          "output_type": "execute_result",
          "data": {
            "text/html": [
              "<div>\n",
              "<style scoped>\n",
              "    .dataframe tbody tr th:only-of-type {\n",
              "        vertical-align: middle;\n",
              "    }\n",
              "\n",
              "    .dataframe tbody tr th {\n",
              "        vertical-align: top;\n",
              "    }\n",
              "\n",
              "    .dataframe thead th {\n",
              "        text-align: right;\n",
              "    }\n",
              "</style>\n",
              "<table border=\"1\" class=\"dataframe\">\n",
              "  <thead>\n",
              "    <tr style=\"text-align: right;\">\n",
              "      <th></th>\n",
              "      <th>probability</th>\n",
              "      <th>second_#</th>\n",
              "      <th>first_#</th>\n",
              "      <th>part_of_day_1</th>\n",
              "      <th>part_of_day_2</th>\n",
              "      <th>part_of_day_3</th>\n",
              "      <th>part_of_day_4</th>\n",
              "    </tr>\n",
              "  </thead>\n",
              "  <tbody>\n",
              "    <tr>\n",
              "      <th>12622</th>\n",
              "      <td>0.78</td>\n",
              "      <td>7663073136196165317</td>\n",
              "      <td>-7180317460546426553</td>\n",
              "      <td>0</td>\n",
              "      <td>0</td>\n",
              "      <td>0</td>\n",
              "      <td>1</td>\n",
              "    </tr>\n",
              "    <tr>\n",
              "      <th>12981</th>\n",
              "      <td>0.75</td>\n",
              "      <td>-8965402975733170289</td>\n",
              "      <td>7219561513345988798</td>\n",
              "      <td>0</td>\n",
              "      <td>0</td>\n",
              "      <td>1</td>\n",
              "      <td>0</td>\n",
              "    </tr>\n",
              "    <tr>\n",
              "      <th>12765</th>\n",
              "      <td>0.6639712531327452</td>\n",
              "      <td>-2460439324685945059</td>\n",
              "      <td>7219561513345988798</td>\n",
              "      <td>0</td>\n",
              "      <td>1</td>\n",
              "      <td>0</td>\n",
              "      <td>0</td>\n",
              "    </tr>\n",
              "  </tbody>\n",
              "</table>\n",
              "</div>"
            ],
            "text/plain": [
              "              probability              second_#  ... part_of_day_3 part_of_day_4\n",
              "12622                0.78   7663073136196165317  ...             0             1\n",
              "12981                0.75  -8965402975733170289  ...             1             0\n",
              "12765  0.6639712531327452  -2460439324685945059  ...             0             0\n",
              "\n",
              "[3 rows x 7 columns]"
            ]
          },
          "metadata": {
            "tags": []
          },
          "execution_count": 28
        }
      ]
    },
    {
      "cell_type": "markdown",
      "metadata": {
        "id": "Ml6z11KncWH6"
      },
      "source": [
        "### Konstrukcja sekwencji"
      ]
    },
    {
      "cell_type": "code",
      "metadata": {
        "id": "SqgaBGG8K3cO"
      },
      "source": [
        "routines = []\n",
        "\n",
        "def next_event(routine: [], part_of_day: int) -> []:\n",
        "  last = routine[-1]\n",
        "  candidates = results[results['first_#'] == last]\n",
        "  candidate = candidates[candidates[f'part_of_day_{part_of_day}'] == '1'].iloc[0]\n",
        "  if float(candidate['probability']) < 0.25 or candidate['second_#'] in routine:\n",
        "    return routine\n",
        "  else:\n",
        "    routine.append(candidate['second_#'])\n",
        "    return next_event(routine, part_of_day)\n",
        "\n",
        "\n",
        "for _, second, first, d1, d2, d3, d4  in map(tuple, top.to_numpy()):  \n",
        "  if d1 == '1':\n",
        "    part_of_day = 1\n",
        "  elif d2 == '1':\n",
        "    part_of_day = 2\n",
        "  elif d3 == '1':\n",
        "    part_of_day = 3\n",
        "  elif d4 == '1':\n",
        "    part_of_day = 4\n",
        "\n",
        "  routine = next_event([first, second], part_of_day)\n",
        "  routines.append((routine, part_of_day))\n"
      ],
      "execution_count": null,
      "outputs": []
    },
    {
      "cell_type": "code",
      "metadata": {
        "id": "FORHikwVK_WS",
        "colab": {
          "base_uri": "https://localhost:8080/",
          "height": 70
        },
        "outputId": "72a5988f-b178-49e7-d305-d1dd74555ab3"
      },
      "source": [
        "routines"
      ],
      "execution_count": null,
      "outputs": [
        {
          "output_type": "execute_result",
          "data": {
            "text/plain": [
              "[(['-7180317460546426553', '7663073136196165317'], 4),\n",
              " (['7219561513345988798', '-8965402975733170289'], 3),\n",
              " (['7219561513345988798', '-2460439324685945059'], 2)]"
            ]
          },
          "metadata": {
            "tags": []
          },
          "execution_count": 30
        }
      ]
    },
    {
      "cell_type": "markdown",
      "metadata": {
        "id": "KKZoWA3_7jMq"
      },
      "source": [
        "### Tłumaczenie sekwencji"
      ]
    },
    {
      "cell_type": "code",
      "metadata": {
        "id": "rdEXJrGMb8DE"
      },
      "source": [
        "def event_hash_to_name(routine, part_of_day):\n",
        "   parsed = map(lambda e: data[data['first_#'] == int(e)]['first'].iloc[0], routine)\n",
        "   return list(parsed), part_of_day\n",
        "\n",
        "results = list(map(lambda r: event_hash_to_name(*r), routines))"
      ],
      "execution_count": null,
      "outputs": []
    },
    {
      "cell_type": "code",
      "metadata": {
        "id": "d_peJkkj8wrs",
        "colab": {
          "base_uri": "https://localhost:8080/",
          "height": 283
        },
        "outputId": "d543aaa3-63b8-4ecd-c4ca-c6247d961eaa"
      },
      "source": [
        "for i, result in enumerate(results, start=1): \n",
        "  routine, part_of_day = result\n",
        "  event_list = \"\\n\\t\\t\".join(routine)\n",
        "  print(f'Routine {i}: ')\n",
        "  print(f'    Part of the day: {part_of_day}')\n",
        "  print(f'    Events:{event_list}')\n",
        "  print()"
      ],
      "execution_count": null,
      "outputs": [
        {
          "output_type": "stream",
          "text": [
            "Routine 1: \n",
            "    Part of the day: 4\n",
            "    Events:living_room_blind_3_switch_blind_down\n",
            "\t\tbathroom_light_2_switch_light_off\n",
            "\n",
            "Routine 2: \n",
            "    Part of the day: 3\n",
            "    Events:living_room_blind_2_switch_blind_down\n",
            "\t\tkitchen_blind_1_switch_blind_down\n",
            "\n",
            "Routine 3: \n",
            "    Part of the day: 2\n",
            "    Events:living_room_blind_2_switch_blind_down\n",
            "\t\tgeneral_ac_temp_up\n",
            "\n"
          ],
          "name": "stdout"
        }
      ]
    },
    {
      "cell_type": "code",
      "metadata": {
        "id": "_ZyOekS-9WGM"
      },
      "source": [
        ""
      ],
      "execution_count": null,
      "outputs": []
    }
  ]
}